{
 "cells": [
  {
   "cell_type": "markdown",
   "metadata": {
    "application/vnd.databricks.v1+cell": {
     "cellMetadata": {},
     "inputWidgets": {},
     "nuid": "964baa60-bc06-4d31-b81a-16ddc217dbe1",
     "showTitle": false,
     "tableResultSettingsMap": {},
     "title": ""
    }
   },
   "source": [
    "\n",
    "<div style=\"text-align: center; line-height: 0; padding-top: 9px;\">\n",
    "  <img src=\"https://databricks.com/wp-content/uploads/2018/03/db-academy-rgb-1200px.png\" alt=\"Databricks Learning\">\n",
    "</div>\n"
   ]
  },
  {
   "cell_type": "markdown",
   "metadata": {
    "application/vnd.databricks.v1+cell": {
     "cellMetadata": {},
     "inputWidgets": {},
     "nuid": "ab1cf37b-b4a8-4515-a98a-56af5512d85f",
     "showTitle": false,
     "tableResultSettingsMap": {},
     "title": ""
    }
   },
   "source": [
    "## 2.10 - Alberta Energy Grid Lab - AI/BI Genie Space Development Lab\n",
    "\n",
    "AI/BI Genie allows business users to conduct self-serve data analytics using natural language and without coding. After a Genie space is set up by a domain expert such as a data analyst, business users can ask their own questions and generate visualizations to help them understand the data. \n",
    "\n",
    "In this lesson, you will create and configure a Genie space, experiment with it as if you were an end user and generate feedback, and then return to the administrator's perspective and use that feedback to enhance the space.\n",
    "\n",
    "This lesson uses the following resources:\n",
    "- Tables:\n",
    "  - Catalog: dbacademy\n",
    "  - Schema: {dynamically named, personal to you}\n",
    "  - Tables:\n",
    "    - aeso_january_2024_demand\n",
    "    - aeso_january_2024_supply\n",
    "    - calgary_january_2024_temperature\n",
    "\n",
    "#### Background\n",
    "These tables contain real data representing electricity supply and demand and air temperature for the month of January 2024 in Alberta. Between January 11-14 2024, Alberta experienced a perfect storm of low renewable generation (i.e. wind and solar), extreme cold temperatures, and gas plant outages. This led the Alberta Electricity System Operator (AESO) to issue a \"state of emergency\" and that rolling outages would be required if demand was not decreased in order to keep critical infrastructure online.\n",
    "\n",
    "#### Objective\n",
    "You'll use the data in these tables to prepare your Genie space and ask questions in natural language over the data\n"
   ]
  },
  {
   "cell_type": "markdown",
   "metadata": {
    "application/vnd.databricks.v1+cell": {
     "cellMetadata": {},
     "inputWidgets": {},
     "nuid": "384ceb30-98e2-4c50-9b27-f60fab12acb4",
     "showTitle": false,
     "tableResultSettingsMap": {},
     "title": ""
    }
   },
   "source": [
    "### REQUIRED: Course Setup and Data Discovery\n",
    "In this particular lab exercise, a setup script will create tables from CSV in a GitHub Repository and share into a schema you control. To get started, click the small triangle Run button in the top left of the cell below. \n",
    "\n",
    "**If you already ran this for Notebook `1.10` then skip to Part A**\n",
    "\n",
    "---"
   ]
  },
  {
   "cell_type": "code",
   "execution_count": 0,
   "metadata": {
    "application/vnd.databricks.v1+cell": {
     "cellMetadata": {},
     "inputWidgets": {},
     "nuid": "a25820cd-ebc2-4ddf-9880-b191e0d96e29",
     "showTitle": false,
     "tableResultSettingsMap": {},
     "title": ""
    }
   },
   "outputs": [],
   "source": [
    "%run \"./includes/aeso_setup\""
   ]
  },
  {
   "cell_type": "markdown",
   "metadata": {
    "application/vnd.databricks.v1+cell": {
     "cellMetadata": {},
     "inputWidgets": {},
     "nuid": "2fad4420-618c-4509-862d-5cade34a02a4",
     "showTitle": false,
     "tableResultSettingsMap": {},
     "title": ""
    }
   },
   "source": [
    "### A: Create a Genie Space\n",
    "In this part of the lab, we'll start with creating a Genie space directly from the main Databricks user interface.\n",
    "\n",
    "**📌 NOTE:** Many of the following instructions take place in a non-notebook area of the platform. It is recommended to open either the notebooks in a separate tab or window to reference the instructions alongside the area where they are performed.\n",
    "\n",
    "1. Navigate to **Genie** in the left-side navigation of the platform. (It is recommended to right-click and select Open Link in New Window or Tab)\n",
    "\n",
    "1. Click **+ New** in the upper right corner.\n",
    "1. You'll be presented with the **Connect your data** dialogue box. Click **All** and navigate to dbacademy.YOURSCHEMA and select the following four tables: \n",
    "    - aeso_january_2024_demand\n",
    "    - aeso_january_2024_supply\n",
    "    - calgary_january_2024_temperature\n",
    "\n",
    "    A checkbox will appear next to each as you select them.\n",
    "\n",
    "4. Next, select **Create** at the bottom of the dialogue to continue.\n",
    "\n",
    "In the resulting window, you'll be presented with a chat panel on the left and the configuration settings open on the right with **Context** and **Data** selected.\n",
    "1. Switch the view from **Context** to **Settings** and fill in the following details about the Genie space:\n",
    "    - Title: **Alberta Energy Grid Analysis**\n",
    "    - Description:\n",
    "      This Genie space allows business users to research historical electricity supply and demand in Alberta\n",
    "    - Default warehouse: shared_warehouse\n",
    "    - Sample Questions: Enter **What was the peak total demand?** and click **+ Add**\n",
    "1. Click **Save**.\n",
    "\n",
    "The Genie space's screen area is split into two sides with the chat window on the left and the configuration and settings on the right. The buttons at the top right allow you to choose among these areas:\n",
    "\n",
    "* **+ New chat**: Allows you to create a new threaded dialogues with Genie. After you publish a Genie space to end users (who will probably have only \"Can View\" or \"Can Run\" access), this is one of the only Genie areas they will have access to.\n",
    "* **History** (the icon that looks like a clock): Allows you to review the separate chat threads that you've had with Genie. After you publish a Genie space to end users (who will probably have only \"Can View\" or \"Can Run\" access), this is the other Genie area they will have access to.\n",
    "* **Configure** (the icon that looks like a gear): Returns you to the edit screen for the settings of the Genie space, much like the screen you saw during the space's creation.\n",
    "  Within Configure you'll have:\n",
    "  * **Data** (the icon that looks like a stacked blocks): Allows you to review and edit the data tables associated with the Space.\n",
    "  * **Instructions** (the icon that looks like a book): Allows you to provide general instructions, in natural language, on how Genie will behave when asked a question by a user.\n",
    "  * **SQL Queries** (the icon will look like a command prompt): Allows you to add example SQL queries for Genie to learn from specific to the associated dataset(s).\n",
    "* **Monitoring** (the icon that looks like a eye): Allows you to review what questions were asked, who asked them, and how they were rated by the user. \n",
    "* **Share** (the icon that looks like a lock): Allows you to set the share permissions and share the Genie space with end users. \n",
    "\n",
    "Under the kebab menu, you'll find:\n",
    "* **Benchmarks** (the icon that looks like a graduate's mortarboard): Allows you to define a suite of questions that you run on a recurring basis to ensure the space continues to give good answers to the most important user questions.\n",
    "\n",
    "Additionally, you'll have the options to Clone and delete the Genie space by moving it to trash from this menu.\n"
   ]
  },
  {
   "cell_type": "markdown",
   "metadata": {
    "application/vnd.databricks.v1+cell": {
     "cellMetadata": {},
     "inputWidgets": {},
     "nuid": "cc1ce827-e82f-4831-9698-e67d1338db9b",
     "showTitle": false,
     "tableResultSettingsMap": {},
     "title": ""
    }
   },
   "source": [
    "### B: Query the Genie space, and leave feedback\n",
    "\n",
    "Before we allow users into this Genie space, we need to try it out for ourselves. It may be that we need to refine its configuration before it gives helpful answers.\n",
    "\n",
    "1. Return to the **Chats** area of the Genie space if you have navigated away.\n",
    "\n",
    "1. Notice that our sample question about total peak load is in a clickable button in the screen's right panel, and so is a sample question we didn't put in: \"Explain the data set\". Click on the **Explain the data set** button. Let's see how well Genie does in understanding our data with very little coaching.\n",
    "1. How did Genie do? Did it figure out that the data sets are linked? Click on the **`(✓)Yes`** icon below its response if it did, and click on **`(x)Fix it`** if it didn't.\n",
    "1. Now let's try the other sample question. Type in ```What was the peak total demand?``` and click the paper-airplane icon to submit it.\n",
    "1. Genie gives us a numerical answer. Do we trust it? Ask ```Plot a timeseries of all demand in January``` to compel Genie to show all demand.\n",
    "1. Does the max demand in the plot match the peak demand that Genie provided? Try hovering over the chart to confirm. If yes, click **`(✓)Yes`**; if not, click **`(x)Fix it`**.\n",
    "1. Let's continue exploring electricity supply and demand. Say ```What fuel type provides the most power?```\n",
    "1. Does Genie know that Bike Power is not a fuel type? Ask ```How much power is generated by fuel type Bike Power?``` Was its answer appropriate? Did it provide `Null`? If not, give it a **`(✓)Yes`**, and a **`(x)Fix it`** if not.\n",
    "1. It's time for a more complex question. Say ```Plot the supply generated from wind for all of January```. Did it do well? Again, give feedback. Can you see what happened during the supply shortage?\n",
    "1. Try asking further questions to understand what drove the supply shortage and demand peak in mid-January 2024.\n",
    "1. We can give Genie specific instructions, for example, provide a instruction for ```Plot the supply generated from wind for all of January```\n",
    "\n",
    "    Scroll back up and click on **Add as instruction** so as to save this query as an example query. (Recall that you can only do this because you have at least edit rights on the Genie space. Your end users with only view rights can't add instructions.)\n",
    "\n",
    "11. If Genie gave you a line chart with that response, say \"give me a bar chart of that\" (and if it gave you a bar chart, ask instead for a line chart).\n",
    "1. Finally, let's ask Genie a question that has nothing to do with our company's data. Compose your own: try a trivia question about your favorite sports team, TV show, or musician. How does Genie respond?\n"
   ]
  },
  {
   "cell_type": "markdown",
   "metadata": {
    "application/vnd.databricks.v1+cell": {
     "cellMetadata": {},
     "inputWidgets": {},
     "nuid": "6b136b25-3840-4d6e-afa1-6f40ad89e2a8",
     "showTitle": false,
     "tableResultSettingsMap": {},
     "title": ""
    }
   },
   "source": [
    "### C: View the feedback and act on it\n",
    "\n",
    "Regularly inspecting user feedback, and doing something about it, is the most important ongoing maintenance responsibility of a Genie space.\n",
    "\n",
    "1. Navigate to the **Monitoring** area of the Genie space. Here you will see all the feedback you left so far. Notice that the **Rating** column reports the thumbs-ups and thumbs-downs you gave.\n",
    "\n",
    "1. Choose a question that shows a thumbs-down and click on it. Genie shows you the question and the answer in context. Because Genie tries to repair earlier answers when it learns new things, you might need to scroll down in the chat context to see what the problem actually was. If you encountered a problem with Genie not knowing to report GW instead of MW, it'll become clear by reading the chat.\n",
    "1. Let's try to make sure this doesn't happen to other people. Click on the **Configure** icon (which looks like a gear), and under the Context menu, select the **Instructions** tab (represented by a document icon) and type into the **General Instructions** box: ```* Supply and demand values should always be converted to GW```. Type in anything else you may have learned that will improve Genie's performance. Click **Save**."
   ]
  },
  {
   "cell_type": "markdown",
   "metadata": {
    "application/vnd.databricks.v1+cell": {
     "cellMetadata": {},
     "inputWidgets": {},
     "nuid": "5a23e512-2a51-4b10-b293-f73e388d31f5",
     "showTitle": false,
     "tableResultSettingsMap": {},
     "title": ""
    }
   },
   "source": [
    "### D: Share the Genie space\n",
    "\n",
    "Users can't access a Genie space until you share it. \n",
    "\n",
    "1. Click on the **Share** button at top right.\n",
    "\n",
    "1. Choose the people who should be able to use this Genie space. For this activity, specify that all workspace users may use the space by clicking in the box for users, groups, or service principals, and choosing \"All workspace users\". Use the pulldown at right to assign **Can View** permission.\n",
    "1. Click **Add**.\n",
    "1. Click on the **Copy link** at bottom left to put the URL for this Genie space into your clipboard. In a real deployment, you would include this link in your announcement of the Genie space to its intended audience. In that communication, don't forget to emphasize how important it is that your users give feedback."
   ]
  },
  {
   "cell_type": "markdown",
   "metadata": {
    "application/vnd.databricks.v1+cell": {
     "cellMetadata": {},
     "inputWidgets": {},
     "nuid": "52ecd984-001b-4378-b5dd-87d7ae87e5c1",
     "showTitle": false,
     "tableResultSettingsMap": {},
     "title": ""
    }
   },
   "source": [
    "### E: Create a Genie Space from a Dashboard\n",
    "So far, we have been working with a standalone Genie space. Alternatively, you can create a Genie Space directly from a dashboard. Let's explore that choice.\n",
    "\n",
    "1. Navigate to **Dashboards** in the main Databricks user interface and select a dashboard you've created during your work throughout this course. </p>\n",
    "1. Switch to **Edit Draft** for the dashboard. </p>\n",
    "1. Select the kebab menu in the upper right corner, next to the **Share** option.</p>\n",
    "1. Select **Open draft Genie space**.\n",
    "1. Ask the following question in the chatbox.\n",
    "\n",
    "    ```What tables are there and how are they connected? Give me a short summary.```\n",
    "1. Review the response provided by Genie. \n",
    "1. Experiment with a few other questions, both those that ask for tabular or numeric information and those that ask for a visualization.\n",
    "\n",
    "This Draft Genie space will not appear in the list of available Genie spaces from the main navigation menu, but will be accessible from the Draft view of the associated Dashboard. In other words, it is not a separately manageable object. Users' access rights to it will always be the same as their access rights to the associated dashboard.\n",
    "\n",
    "**NOTE:** This capability is currently in Preview."
   ]
  },
  {
   "cell_type": "markdown",
   "metadata": {
    "application/vnd.databricks.v1+cell": {
     "cellMetadata": {},
     "inputWidgets": {},
     "nuid": "e0e0e597-e21e-402f-bea0-7f882e8efb17",
     "showTitle": false,
     "tableResultSettingsMap": {},
     "title": ""
    }
   },
   "source": [
    "### Challenge activity: Explore Opportunities\n",
    "\n",
    "If you have time, add more sample questions to the Genie space that relate to the **dbacademy.`YOURSCHEMA`.calgary_january_2024_temperature** table. What kinds of questions might your audience have about the weather and how it relates to supply and demand?"
   ]
  },
  {
   "cell_type": "markdown",
   "metadata": {
    "application/vnd.databricks.v1+cell": {
     "cellMetadata": {},
     "inputWidgets": {},
     "nuid": "c40dbd7d-59d3-4122-b968-df80738d72f3",
     "showTitle": false,
     "tableResultSettingsMap": {},
     "title": ""
    }
   },
   "source": [
    "\n",
    "&copy; 2025 Databricks, Inc. All rights reserved. Apache, Apache Spark, Spark, the Spark Logo, Apache Iceberg, Iceberg, and the Apache Iceberg logo are trademarks of the <a href=\"https://www.apache.org/\" target=\"blank\">Apache Software Foundation</a>.<br/>\n",
    "<br/><a href=\"https://databricks.com/privacy-policy\" target=\"blank\">Privacy Policy</a> | \n",
    "<a href=\"https://databricks.com/terms-of-use\" target=\"blank\">Terms of Use</a> | \n",
    "<a href=\"https://help.databricks.com/\" target=\"blank\">Support</a>"
   ]
  }
 ],
 "metadata": {
  "application/vnd.databricks.v1+notebook": {
   "computePreferences": null,
   "dashboards": [],
   "environmentMetadata": null,
   "inputWidgetPreferences": null,
   "language": "sql",
   "notebookMetadata": {
    "pythonIndentUnit": 4
   },
   "notebookName": "2.10 - Alberta Energy Grid Lab - AI-BI Genie Space Development Activity",
   "widgets": {}
  },
  "language_info": {
   "name": "sql"
  }
 },
 "nbformat": 4,
 "nbformat_minor": 0
}
