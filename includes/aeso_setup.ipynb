{
 "cells": [
  {
   "cell_type": "code",
   "execution_count": 0,
   "metadata": {
    "application/vnd.databricks.v1+cell": {
     "cellMetadata": {
      "byteLimit": 2048000,
      "rowLimit": 10000
     },
     "inputWidgets": {},
     "nuid": "a877f776-0872-417f-a441-a5d1c4da913f",
     "showTitle": false,
     "tableResultSettingsMap": {},
     "title": ""
    }
   },
   "outputs": [],
   "source": [
    "import pandas as pd"
   ]
  },
  {
   "cell_type": "code",
   "execution_count": 0,
   "metadata": {
    "application/vnd.databricks.v1+cell": {
     "cellMetadata": {
      "byteLimit": 2048000,
      "rowLimit": 10000
     },
     "inputWidgets": {},
     "nuid": "c5a55907-97a7-4198-a02b-14f0cc11fe23",
     "showTitle": false,
     "tableResultSettingsMap": {},
     "title": ""
    }
   },
   "outputs": [],
   "source": [
    "df = spark.sql(\"SELECT value FROM dbacademy.ops.meta WHERE key = 'schema_name'\")\n",
    "\n",
    "catalog = \"dbacademy\"\n",
    "schema = df.first()[\"value\"]\n",
    "\n",
    "files_to_download = [\n",
    "    {\"file_name\": \"aeso-january-2024-demand.csv\", \n",
    "     \"download_url\": \n",
    "         \"https://raw.githubusercontent.com/david-hurley/databricks-aibi-day/refs/heads/main/data/aeso-january-2024-demand.csv\", \n",
    "         \"table_name\": \"aeso_january_2024_demand\"\n",
    "    },\n",
    "    {\"file_name\": \"aeso-january-2024-supply.csv\", \n",
    "     \"download_url\": \n",
    "         \"https://raw.githubusercontent.com/david-hurley/databricks-aibi-day/refs/heads/main/data/aeso-january-2024-supply.csv\", \n",
    "         \"table_name\": \"aeso_january_2024_supply\"\n",
    "    },\n",
    "    {\"file_name\": \"calgary-january-2024-temperature.csv\", \n",
    "     \"download_url\": \n",
    "         \"https://raw.githubusercontent.com/david-hurley/databricks-aibi-day/refs/heads/main/data/calgary-january-2024-temperature.csv\", \n",
    "         \"table_name\": \"calgary_january_2024_temperature\"\n",
    "    }\n",
    "]"
   ]
  },
  {
   "cell_type": "code",
   "execution_count": 0,
   "metadata": {
    "application/vnd.databricks.v1+cell": {
     "cellMetadata": {
      "byteLimit": 2048000,
      "rowLimit": 10000
     },
     "inputWidgets": {},
     "nuid": "5bc5a2f6-439f-4855-8f04-302db331cfbd",
     "showTitle": false,
     "tableResultSettingsMap": {},
     "title": ""
    }
   },
   "outputs": [
    {
     "output_type": "stream",
     "name": "stdout",
     "output_type": "stream",
     "text": [
      "Catalog: dbacademy\nSchema: labuser11280485_1755745424\n"
     ]
    }
   ],
   "source": [
    "for file in files_to_download:\n",
    "    file_name = file[\"file_name\"]\n",
    "    download_url = file[\"download_url\"]\n",
    "    table_name = file[\"table_name\"]\n",
    "    \n",
    "    df = pd.read_csv(download_url)\n",
    "\n",
    "    spark_df = spark.createDataFrame(df)\n",
    "\n",
    "    spark_df = spark_df.withColumn(\"datetime_MST\", spark_df[\"datetime_MST\"].cast(\"timestamp\"))\n",
    "    spark_df.write.mode(\"overwrite\").saveAsTable(\"{catalog}.{schema}.{table_name}\".format(catalog=catalog, schema=schema, table_name=table_name))\n",
    "    \n",
    "print(\"Catalog: {catalog}\".format(catalog=catalog))\n",
    "print(\"Schema: {schema}\".format(schema=schema))"
   ]
  },
  {
   "cell_type": "code",
   "execution_count": 0,
   "metadata": {
    "application/vnd.databricks.v1+cell": {
     "cellMetadata": {},
     "inputWidgets": {},
     "nuid": "c2aecf26-40e8-4d88-98bb-66eba651c7ca",
     "showTitle": false,
     "tableResultSettingsMap": {},
     "title": ""
    }
   },
   "outputs": [],
   "source": []
  }
 ],
 "metadata": {
  "application/vnd.databricks.v1+notebook": {
   "computePreferences": null,
   "dashboards": [],
   "environmentMetadata": {
    "base_environment": "",
    "environment_version": "3"
   },
   "inputWidgetPreferences": null,
   "language": "python",
   "notebookMetadata": {
    "mostRecentlyExecutedCommandWithImplicitDF": {
     "commandId": 5677267141595447,
     "dataframes": [
      "_sqldf"
     ]
    },
    "pythonIndentUnit": 4
   },
   "notebookName": "aeso_setup",
   "widgets": {}
  },
  "language_info": {
   "name": "python"
  }
 },
 "nbformat": 4,
 "nbformat_minor": 0
}