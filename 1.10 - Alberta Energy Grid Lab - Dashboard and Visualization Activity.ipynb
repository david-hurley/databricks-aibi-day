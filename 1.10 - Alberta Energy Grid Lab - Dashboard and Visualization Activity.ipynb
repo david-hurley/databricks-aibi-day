{
 "cells": [
  {
   "cell_type": "markdown",
   "metadata": {
    "application/vnd.databricks.v1+cell": {
     "cellMetadata": {},
     "inputWidgets": {},
     "nuid": "f15b4123-cdbe-491c-8bd3-034ed71d2d53",
     "showTitle": false,
     "tableResultSettingsMap": {},
     "title": ""
    }
   },
   "source": [
    "\n",
    "<div style=\"text-align: center; line-height: 0; padding-top: 9px;\">\n",
    "  <img src=\"https://databricks.com/wp-content/uploads/2018/03/db-academy-rgb-1200px.png\" alt=\"Databricks Learning\">\n",
    "</div>\n"
   ]
  },
  {
   "cell_type": "markdown",
   "metadata": {
    "application/vnd.databricks.v1+cell": {
     "cellMetadata": {},
     "inputWidgets": {},
     "nuid": "26c04b6d-2ad5-40cf-bb0c-4dc0a279e8bf",
     "showTitle": false,
     "tableResultSettingsMap": {},
     "title": ""
    }
   },
   "source": [
    "## 1.10 - Alberta Energy Grid Lab - Dashboard and Visualization Activity\n",
    "\n",
    "Databricks AI/BI Dashboards help you quickly transform data into shareable insights. \n",
    "\n",
    "In this lesson, you will create a dashboard and make it useful by adding text, data, and interactive visualizations.\n",
    "\n",
    "This lesson uses the following resources:\n",
    "- Tables:\n",
    "  - Catalog: dbacademy\n",
    "  - Schema: {dynamically named, personal to you}\n",
    "  - Tables:\n",
    "    - aeso_january_2024_demand\n",
    "    - aeso_january_2024_supply\n",
    "    - calgary_january_2024_temperature\n",
    "\n",
    "#### Background\n",
    "These tables contain real data representing electricity supply and demand and air temperature for the month of January 2024 in Alberta. Between January 11-14 2024, Alberta experienced a perfect storm of low renewable generation (i.e. wind and solar), extreme cold temperatures, and gas plant outages. This led the Alberta Electricity System Operator (AESO) to issue a \"state of emergency\" and that rolling outages would be required if demand was not decreased in order to keep critical infrastructure online.\n",
    "\n",
    "#### Objective\n",
    "The **aeso_january_2024_demand** and **aeso_january_2024_supply** tables contain hourly electricity demand and supply data, respectively, in MWs. The **calgary_january_2024_temperature** contains hourly air temperatures, in Celsius, as measured at the Calgary International Airport. These three tables are related via datetime. \n",
    "\n",
    "You'll use the data in these tables to prepare your dashboard and explore the data to understand more about the electricity shortage that occured in mid-January 2024. \n"
   ]
  },
  {
   "cell_type": "markdown",
   "metadata": {
    "application/vnd.databricks.v1+cell": {
     "cellMetadata": {},
     "inputWidgets": {},
     "nuid": "659b4c9d-d682-42b1-8eff-edea25e14498",
     "showTitle": false,
     "tableResultSettingsMap": {},
     "title": ""
    }
   },
   "source": [
    "### REQUIRED: Course Setup and Data Discovery\n",
    "In this particular lab exercise, a setup script will copy tables from a Databricks Marketplace share into a schema you control. To get started, click the small triangle Run button in the top left of the cell below.\n",
    "\n",
    "---"
   ]
  },
  {
   "cell_type": "code",
   "execution_count": 0,
   "metadata": {
    "application/vnd.databricks.v1+cell": {
     "cellMetadata": {
      "byteLimit": 2048000,
      "rowLimit": 10000
     },
     "inputWidgets": {},
     "nuid": "60c6606a-8a37-4035-8dac-fde301c73638",
     "showTitle": false,
     "tableResultSettingsMap": {},
     "title": ""
    }
   },
   "outputs": [
    {
     "output_type": "stream",
     "name": "stdout",
     "output_type": "stream",
     "text": [
      "Catalog: dbacademy\nSchema: labuser11280485_1755745424\n"
     ]
    }
   ],
   "source": [
    "%run \"./includes/aeso_setup\""
   ]
  },
  {
   "cell_type": "markdown",
   "metadata": {
    "application/vnd.databricks.v1+cell": {
     "cellMetadata": {},
     "inputWidgets": {},
     "nuid": "070a8acb-7a9a-466d-b0d7-0cd58ed3780e",
     "showTitle": false,
     "tableResultSettingsMap": {},
     "title": ""
    }
   },
   "source": [
    "This script creates the required tables from a GitHub Repository. At the end it prints out the name of your catalog and your schema. The schema will have a randomly generated name. Make a note of this value. In these instructions, we'll call this simply \"your schema.\"\n",
    "\n",
    "To use the Catalog Explorer, follow the steps below.\n",
    "\n",
    "1. Select **Catalog** from the sidebar navigation.\n",
    "1. In the catalog selector, locate the catalog titled: **dbacademy**. You can also use the search at the top to narrow down the available options.\n",
    "1. Expand your schema. You should see three tables in this schema.\n",
    "    - aeso_january_2024_demand\n",
    "    - aeso_january_2024_supply\n",
    "    - calgary_january_2024_temperature"
   ]
  },
  {
   "cell_type": "markdown",
   "metadata": {
    "application/vnd.databricks.v1+cell": {
     "cellMetadata": {},
     "inputWidgets": {},
     "nuid": "14f67d18-4d83-4c78-8580-f21a0651af2f",
     "showTitle": false,
     "tableResultSettingsMap": {},
     "title": ""
    }
   },
   "source": [
    "### A: Create a new Dashboard\n",
    "The first step in creating a new dashboard in Databricks is to decide upon the business purpose of the dashboard and its audience. For this dashboard, the business purpose will be to provide information on the January 2024 electricity shortage in Alberta. The intended audience is business is any employee who may need to make decisions or plan based on historical electricity supply and demand.\n",
    "\n",
    "**\uD83D\uDCCC NOTE:** Many of the following instructions take place in a non-notebook area of the platform. It is recommended to open either the notebooks in a separate tab or window to reference the instructions alongside the area where they are performed.\n",
    "\n",
    "In the Databricks user interface, create a new, blank dashboard. \n",
    "* Navigate to **Dashboards** in the side navigation pane.\n",
    "* Select **Create dashboard**. \n",
    "* At the top left of the dashboard definition panel, click on the placeholder dashboard name (\"New Dashboard\" followed by a timestamp) and change it to **Alberta Energy Grid Analysis**.\n",
    "\n"
   ]
  },
  {
   "cell_type": "markdown",
   "metadata": {
    "application/vnd.databricks.v1+cell": {
     "cellMetadata": {},
     "inputWidgets": {},
     "nuid": "dfd887c0-ad6f-4785-9496-ac66790a2bdf",
     "showTitle": false,
     "tableResultSettingsMap": {},
     "title": ""
    }
   },
   "source": [
    "### B: Examine and Augment the Main Dataset\n",
    "\n",
    "With a completely new Dashboard, you need to associate the dashboard with data before you can begin designing the information display itself. At the top of the dashboard screen, you have two tabs, **Data** and **Untitled page**. \n",
    "\n",
    "- **Data:** The **Data** tab allows you to define datasets that you will use in the dashboard. Datasets are bundled with dashboards when sharing, importing, or exporting them using the UI or API.\n",
    "\n",
    "- **Untitled page:** This is the dashboard canvas that allows users to create visualizations and construct their dashboards. Each item on the canvas is called a widget. Widgets have three types: visualizations, text boxes, and filters.\n",
    "\n",
    "You start off on the **Untitled page** tab so that you can see the helpful overview that's provided. Select the **Data** tab to get started. \n",
    "\n",
    "There are three small icons on the left side of the **Data** tab's screen area: **Datasets**, **Catalog**, and **Assistant**. \n",
    "* **Datasets** (an icon depicting a list) will present you with a list of all the datasets used for the dashboard. This is where we start; it's empty now.\n",
    "* **Catalog** (the standard Databricks Catalog icon, three tiny shapes) allows you to navigate the available catalogs, schemas, and tables accessible to the workspace and select tables or materialized views to use as datasets.\n",
    "* **Assistant** (the standard Databricks Assistant icon, a tiny four-pointed star) provides you with a AI-powered interface for asking queries in natural language to the platform to discover objects or gain insights or assistance on query writing. \n",
    "\n",
    "  **\uD83D\uDCCC NOTE**: \n",
    "\n",
    "  - Throughout these instructions, replace **`YOURSCHEMA`** with the name of your schema. (You can find your schema name in the setup run cell executed earlier in this notebook.)\n",
    "\n",
    "1. With the **Datasets list** icon selected, click the **+ Create from SQL** button. Right-click the newly created query in the **Datasets** list and select **Rename**, or use the kebab menu, to rename the query as **electricitySupplyDemand**.  \n",
    "\n",
    "2. Let's borrow the SQL editor panel to look at the data in the **aeso_january_2024_demand** and **aeso_january_2024_supply** table. First, let's see what's in the **aeso_january_2024_demand** table. Paste in this query:\n",
    "\n",
    "```\n",
    "SELECT * from dbacademy.YOURSCHEMA.aeso_january_2024_demand LIMIT 10;\n",
    "```\n",
    "\n",
    "  Then click the **Run** button. \n",
    "\n",
    "  We see a datetime_MST field, which is a date type and in Mountain Standard Time, and a demand_MW field consisting of electricity demand in MW. This table will tell us about the hourly electricity demand on the Alberta grid, but it would be great if we could join this table with electricity supply data so that we can understand the complete demand and supply picture.  \n",
    "\n",
    "3. Fortunately, our schema contains a **aeso_january_2024_supply** table. Use your mouse to clear the previous query from the SQL editor panel and paste this one in instead:\n",
    "\n",
    "```\n",
    "SELECT * from dbacademy.YOURSCHEMA.aeso_january_2024_supply LIMIT 10;\n",
    "```\n",
    "\n",
    "  Then click the **Run** button. \n",
    "\n",
    "  We again see a datetime_MST field along with supply_MW, fuel_type, and region fields. These field represent the electricity supply to the grid from each fuel_type (i.e. source) in various regions of Alberta. This table will tell us about the hourly electricity demand on the Alberta grid, but it would also be great if we could see air temperatures as this is a major driver of demand during winter months. \n",
    "  \n",
    "We should be able to use this table to look up information about our customers for our visualizations. For example, now we can report on all the customers who are in particular states.\n",
    "\n",
    "4. Again, our schema contains a **calgary_january_2024_temperature** table.  Use your mouse to clear the previous query from the SQL editor panel and paste this one in instead:\n",
    "\n",
    "```\n",
    "SELECT * from dbacademy.YOURSCHEMA.calgary_january_2024_temperature LIMIT 10;\n",
    "```\n",
    "\n",
    "  Then click the **Run** button. \n",
    "\n",
    "  We can see this table contains hourly temperatures in degrees Celsius. The location is the Calgary International Airport. \n"
   ]
  },
  {
   "cell_type": "markdown",
   "metadata": {
    "application/vnd.databricks.v1+cell": {
     "cellMetadata": {},
     "inputWidgets": {},
     "nuid": "b11c5b7f-8c71-48d5-92e8-40cb2589d245",
     "showTitle": false,
     "tableResultSettingsMap": {},
     "title": ""
    }
   },
   "source": [
    "### C: Define the Main Dataset\n",
    "\n",
    "Now we know our schema has useful information for our dashboard's audience, who cannot be expected to recognize those arbitrary product IDs. In the real world, you would be more likely to enhance your data by _uploading_ the data for a new table, such as a Comma-Separated Value file (\"CSV file\"). These CSV files are commonly created through exporting spreadsheets. Instead, we created a table using Databricks SQL. Nevertheless, we are finally ready to create a table with everything we need to help our dashboard's end users.\n",
    "\n",
    "1. Be sure that you are in the Databricks user interface window, and in its Dashboards dataset definition screen. The **electricitySupplyDemand** dataset should be selected. Use your mouse to clear any previous query from the SQL editor panel. \n",
    "1. Now click the Assistant icon at left. \n",
    "1. In the Assistant chat box, describe the SQL query you need. \n",
    " Specifically: \n",
    " \n",
    "    I want a query that returns all the fields in **dbacademy.YOURSCHEMA.aeso_january_2024_demand**, plus the supply_MW, fuel_type, and region fields from **dbacademy.YOURSCHEMA.aeso_january_2024_supply**, joining those two tables on the **datetime_MST** field. You also want to pull in the **temperature_C** field from **dbacademy.YOURSCHEMA.calgary_january_2024_temperature**, joining those two tables on the **datetime_MST** field.\n",
    "\n",
    "     Feel free to use the above query description or rewrite it in your own words.\n",
    "\n",
    " ---\n",
    "**TIPS FOR SUCCESS**\n",
    "\n",
    "* You don't have to get the Databricks Assistant to produce the perfect SQL query. Use it to get  close to the goal, and then touch up the final query as needed. \n",
    "\n",
    "* In the context of defining a dashboard, always name tables with their full three-part form: _catalog_._schema_._table_. \n",
    "\n",
    "* Sometimes Databricks Assistant guesses wrong about the exact name of the field that binds two tables together. You can tell it explicitly what field to join on, as we did in our query description above. Or your data engineers can help Databricks Assistant in a more permanent way by defining the underlying tables to have a [constraint clause](https://docs.databricks.com/en/sql/language-manual/sql-ref-syntax-ddl-create-table-constraint.html). \n",
    "\n",
    "---\n",
    "\n",
    " Feel free to use the above query description or rewrite it in your own words. \n",
    "1. Copy the SQL query that Assistant suggests and paste it into the SQL editor panel in the center of the screen (over the words \"Start typing...\").\n",
    "1. Run your query and see if it works! You may need to adjust it. If there is an error, Assistant will display a \"Diagnose error\" button to inspect your SQL and offer a corrected query. Copy the new query back into the SQL editor panel, overwriting the previous attempt, and try to run it again. You might need to use the \"Diagnose error\" button more than once.\n",
    "\n",
    "    If you get stuck, a sample query you can use is at the end of this lab exercise. \n",
    " \n",
    "1. If you like, you can close the Assistant window by clicking the X at top right. But you can always return to it, with full history, by clicking the Assistant icon.\n",
    "\n"
   ]
  },
  {
   "cell_type": "markdown",
   "metadata": {
    "application/vnd.databricks.v1+cell": {
     "cellMetadata": {},
     "inputWidgets": {},
     "nuid": "db6ed0d6-b8f4-444f-8494-c17d0a61a2cf",
     "showTitle": false,
     "tableResultSettingsMap": {},
     "title": ""
    }
   },
   "source": [
    "### D: Add a Dataset for the Peak Electricity Demand\n",
    "\n",
    "1. Still in the **Data** tab, select the **+ Create from SQL** option. \n",
    "2. Enter the following query into the query editing space:\n",
    "```\n",
    "    SELECT \n",
    "        datetime_MST,\n",
    "        demand_MW\n",
    "    FROM \n",
    "        dbacademy.labuser11280485_1755745424.aeso_january_2024_demand\n",
    "    ORDER BY \n",
    "        demand_MW DESC\n",
    "    LIMIT 1\n",
    "```\n",
    "3. Click **Run** to execute the query. \n",
    "4. Right-click the newly created query in the **Datasets** list and select **Rename**, or use the kebab menu, to rename the dataset it constitutes as **peakElectricityDemand**.\n",
    "\n",
    "Now your dashboard has a total of two datasets."
   ]
  },
  {
   "cell_type": "markdown",
   "metadata": {
    "application/vnd.databricks.v1+cell": {
     "cellMetadata": {},
     "inputWidgets": {},
     "nuid": "089ae9d3-e219-4c04-adb8-f86f24a788c8",
     "showTitle": false,
     "tableResultSettingsMap": {},
     "title": ""
    }
   },
   "source": [
    "### E: Add Visualizations\n",
    "---\n",
    "#### Adding a Text Box\n",
    "\n",
    "Let's add a name and a space for a text description of the dashboard to the canvas. When adding a new widget to the canvas, other widgets automatically move to accommodate your placement. You can use your mouse to move and resize widgets. To delete a widget, right-click it and choose **Delete** from the resulting context menu. \n",
    "\n",
    "Complete the following steps to add a text box to the dashboard:\n",
    "\n",
    "1. Click on the **Untitled page** tab at top right to switch to the canvas view.\n",
    "1. At the bottom of the screen you have a palette for adding various widgets. Click the icon in the palette for adding a text box and drag the resulting widget to the top of your canvas. The text-box icon looks like a T in a small rectangle.\n",
    "1. Click into the just-placed widget and type: `# Alberta Energy Grid`\n",
    "\n",
    "    **\uD83D\uDCCC Note:** Text boxes use [Markdown](https://daringfireball.net/projects/markdown/syntax) syntax. The single `#` character in the included texts indicates that <b>Australia Sales</b> is to be styled as a level-1 heading. \n",
    "\n",
    "1. On the next line, type a brief explanation of what this dashboard is for, such as \"This dashboard helps you support and evaluate our Australia sales operation\". Append an invitation for users to email you with feedback using Markdown's embedded-link syntax:\n",
    "\n",
    "   `[Send me feedback!](mailto:your@email.address)`\n",
    "\n",
    "\n",
    "1. Now open up a new line above the Australia Sales header. Here you will add a company logo. First type the Markdown syntax for an embedded image:\n",
    "\n",
    "    `![company logo]()` \n",
    "\n",
    "    (Whatever is between the square brackets will be treated as alt text.)\n",
    "    \n",
    "    Now get an image URL into your browser's clipboard. You can right-click on the image below and capture its link address to use it, or you can use another logo, such as your own company's. Just make sure that the image is small. (Pro-tip: open the image in a new browser tab to confirm that it is small before proceeding.)\n",
    "\n",
    "    ![Description](../Includes/images/newlogo4_sm.png)\n",
    "\n",
    "    Paste the URL between the parentheses (not the brackets!). \n",
    "\n",
    "\n",
    "1. Drag the right edge of the text widget inward so that it is about 1/2 the width of the dashboard. You are making room for a widget to sit to the right of the title. Adjust the bottom edge as needed so that all the contents of the text box are visible.\n"
   ]
  },
  {
   "cell_type": "markdown",
   "metadata": {
    "application/vnd.databricks.v1+cell": {
     "cellMetadata": {},
     "inputWidgets": {},
     "nuid": "9d8b3d25-6a32-4cf5-a063-24f9b4f13f0e",
     "showTitle": false,
     "tableResultSettingsMap": {},
     "title": ""
    }
   },
   "source": [
    "---\n",
    "#### Adding a Counter\n",
    "\n",
    "The first visualization we'll be adding to the dashboard is a counter visualization to display the current sales against a sales goal of $390 million.\n",
    "\n",
    "\n",
    "1. Return to the **Untitled page** tab if you navigated away.  \n",
    "1. Click the icon in the palette for adding a visualization, which is a tiny thumbnail of a line chart.  \n",
    "1. Move your cursor to anywhere on the screen and click to add the visualization to the canvas.  \n",
    "1. In the configuration panel on the right, make the following selections for the settings:\n",
    "    - **Dataset:** **SumTotalSales**\n",
    "    - **Visualization:** Counter\n",
    "    - **Title:** Checked\n",
    "      - Click on **Widget Title** on the visualization.\n",
    "      - Change it by typing over it to **Sales Goal**.\n",
    "    - **Value:** Total_Sales\n",
    "    - **Target:** Sales_Goal\n",
    "\n",
    "1. Click on **Total_Sales** in the **Value** area of the configuration panel and select **Format** from the resulting dropdown. Make the following adjustments:\n",
    "    - Change **Auto** to **Custom**.\n",
    "    - Set **Type** to Currency ($)\n",
    "    - Change the Currency to Australian Dollars ($)\n",
    "\n",
    "1. In the Style section, click the **+** next to **Conditional Style**. Configure it with the following settings:\n",
    "    - If Value <= Target\n",
    "    - Then (Color: Red)\n",
    "\n",
    "Adjust the width of the counter visualization so that it is 1/2 the width of the dashboard, then drag the edges or click-hold while hovering over the visualization box to put it to the right of the title box. Adjust the height of the counter visualization so that it is 1/2 the height of the adjacent text box. \n",
    "\n",
    "Try this experiment: change the currency of the sales total to British Pounds (£). Does the value displayed change, or just the currency symbol? Change the currency back to Australian Dollars ($) before proceeding."
   ]
  },
  {
   "cell_type": "markdown",
   "metadata": {
    "application/vnd.databricks.v1+cell": {
     "cellMetadata": {},
     "inputWidgets": {},
     "nuid": "089b8cba-52a4-43eb-8cc7-b97fba256ccb",
     "showTitle": false,
     "tableResultSettingsMap": {},
     "title": ""
    }
   },
   "source": [
    "---\n",
    "#### Adding a combo chart\n",
    "Next, let's add another visualization, this time a Combo Chart containing information about total sale price and count of sales over a three months span.\n",
    "\n",
    "1. Return to the **Untitled page** tab if you navigated away.  \n",
    "1. Click the icon in the palette for adding a visualization.\n",
    "1. Land the new widget on the left side of the canvas underneath the text box. Click in the new widget to give it focus. \n",
    "1. In the **Configuration Panel** on the right, make the following selections for the settings:\n",
    "    - **Dataset**: **orderhistory**\n",
    "    - **Title:** Checked\n",
    "      - Click on **Widget Title** on the visualization.\n",
    "      - Change it by typing over it to **Order History**.\n",
    "    - **Visualization**: Combo\n",
    "    - **X axis**: Click the **+** and select **orderdate**.\n",
    "      Notice that the dialogue guesses that we want to view the data on a monthly basis by replacing **orderdate** with **MONTHLY(orderdate)**.\n",
    "\n",
    "        Click on **MONTHLY(orderdate)** and fill in **Order date** for the **Display name**.\n",
    "    - In the **Y axis** section:\n",
    "      - **Bar**: Click the **+** and select **orderamt**.\n",
    "      Notice that the dialogue guesses that we want to sum the order amounts by replacing **orderamt** with **SUM(orderamt)**. It also automatically knows that these sums should be on a monthly basis, because that is the grouping selected for the X axis.\n",
    "\n",
    "        Click on **SUM(orderamt)** and fill in **Total Sales Value** for the **Display name**.\n",
    "      - **Line**: Click the **+** and select **COUNT(*)** (which is offered at the end of the list of fields; this is SQL syntax for \"count the number of records\")\n",
    "                \n",
    "          Click on **COUNT(*)** and fill in **Count of Sales Orders** for the **Display name**.\n",
    "\n",
    "1. So far this doesn't look very useful, does it? The line for **Count of Sales Orders** hugs the X axis because the Y axis covers values in the millions (of dollars). Let's fix this. Select the kebab menu icon next to **Y axis** and click **Enable dual axis**. Enabling dual axis allows us to see changes in the data on two different scales. \n",
    "\n",
    "  You can also adjust the colors for the series by selecting the color blocks next to series names."
   ]
  },
  {
   "cell_type": "markdown",
   "metadata": {
    "application/vnd.databricks.v1+cell": {
     "cellMetadata": {},
     "inputWidgets": {},
     "nuid": "0d40c1d8-2f77-402f-a505-a6f455e8d62f",
     "showTitle": false,
     "tableResultSettingsMap": {},
     "title": ""
    }
   },
   "source": [
    "---\n",
    "#### Adding a bar chart using Databricks Assistant\n",
    "\n",
    "When drafting a dashboard, you can provide a natural language prompt to the Databricks Assistant and it autogenerates a chart based on your request. The Databricks Assistant can help you build charts based on any dataset defined in your dashboard's data tab. Let's try it out.\n",
    "\n",
    "Complete the following steps:\n",
    "\n",
    "1. Return to the **Untitled page** tab if you navigated away.  \n",
    "1. Click the icon in the palette for adding a visualization.\n",
    "1. Land the new widget on the left side of the canvas underneath the text box. Click in the new widget to give it focus.\n",
    "1. In the \"Ask the Assistant to create a chart...\" box at the top of your new widget, enter the following prompt:  \n",
    "\n",
    "    _Create a bar chart from the orderhistory dataset with productname on the x-axis and orderamt on the y-axis_\n",
    "\n",
    "1. Click the paper-airplane icon to generate a response. It may take a moment for the Assistant to provide a visualization.  \n",
    "1. You will get a bar chart that matches the provided description. Click <b>Accept</b> to confirm the visualization meets your needs.  \n",
    "\n",
    "    If the visualization does not match your description or match the kind of visualization you wanted to create, you can reject or regenerate the response. You can also adjust the configuration of the chart once accepted. \n",
    "  \n",
    "1. Change the color of the chart to something other than the default. Use the configuration panel's **Color** section.\n",
    "1. Check the **Title** box in the configuration panel. Then click on the placeholder widget title on the visualization. Change it by typing over it to **Average Order Amount per Product**.\n"
   ]
  },
  {
   "cell_type": "markdown",
   "metadata": {
    "application/vnd.databricks.v1+cell": {
     "cellMetadata": {},
     "inputWidgets": {},
     "nuid": "76d555c2-776b-4f0b-be62-727d863ce1fb",
     "showTitle": false,
     "tableResultSettingsMap": {},
     "title": ""
    }
   },
   "source": [
    "---\n",
    "#### Adding a pie chart\n",
    "\n",
    "Let's show how our revenue is distributed among the Australian states by adding a pie chart. To make this pie chart, complete the following steps:\n",
    "\n",
    "1. Return to the **Untitled page** tab if you navigated away.  \n",
    "1. Click the icon in the palette for adding a visualization.\n",
    "1. Land the new widget on the left side of the canvas underneath the text box. Click in the new widget to give it focus.  \n",
    "1. In the **Configuration Panel** on the right, make the following selections for the settings: \n",
    "\n",
    "    - **Dataset**: **orderhistory**\n",
    "    - **Title:** Checked\n",
    "      - Click on the placeholder widget title on the visualization.\n",
    "      - Change it by typing over it to **Revenue Share by State**.\n",
    "    - **Visualization**: Pie\n",
    "    - **Angle**: **orderdate**\n",
    "\n",
    "      Click on **orderdate** and fill in **Revenue** for the display name.\n",
    "    - **Color**: Click the **+** and choose **customer_state**.\n",
    "      Click on **customer_state** and fill in **State** for the display name.\n",
    "\n",
    "\n"
   ]
  },
  {
   "cell_type": "markdown",
   "metadata": {
    "application/vnd.databricks.v1+cell": {
     "cellMetadata": {},
     "inputWidgets": {},
     "nuid": "1e146c65-66bd-4794-a117-1026a4a3b429",
     "showTitle": false,
     "tableResultSettingsMap": {},
     "title": ""
    }
   },
   "source": [
    "---\n",
    "#### Adding a heatmap\n",
    "\n",
    "Let's examine how our order totals vary across Australia both by the state and also by the sales rep who executed the order.\n",
    "\n",
    "1. Return to the **Untitled page** tab if you navigated away.  \n",
    "1. Click the icon in the palette for adding a visualization.\n",
    "1. Land the new widget on the left side of the canvas underneath the text box. Click in the new widget to give it focus.  \n",
    "1. In the **Configuration Panel** on the right, make the following selections for the settings: \n",
    "\n",
    "    - **Dataset**: **orderhistory**\n",
    "    - **Title:** Checked\n",
    "      - Click on the placeholder widget title on the visualization.\n",
    "      - Change it by typing over it to **Distribution of Order Quantity across States and Sales Reps**.\n",
    "    - **Visualization**: Heatmap\n",
    "    - **X axis**: **salesrep**\n",
    "\n",
    "      Click on **salesrep** and fill in **Rep** for the display name.\n",
    "    - **Y axis**: Click the **+** and choose **customer_state**.\n",
    "      Click on **customer_state** and fill in **State** for the display name.\n",
    "    - **Color**: Click the **+** and choose **quantity**.\n",
    "      Click on **SUM(quantity)** and fill in **Qty** for the display name.\n",
    "\n",
    "      Click on the little color swatch and choose a more fun color ramp than the default.\n",
    "\n",
    "Which sales rep probably has Sydney in their territory?\n",
    "\n",
    "\n"
   ]
  },
  {
   "cell_type": "markdown",
   "metadata": {
    "application/vnd.databricks.v1+cell": {
     "cellMetadata": {},
     "inputWidgets": {},
     "nuid": "03bab6ad-85d5-4f13-ad29-24dea0d54536",
     "showTitle": false,
     "tableResultSettingsMap": {},
     "title": ""
    }
   },
   "source": [
    "---\n",
    "#### Cross-filtering, and adding filter widgets\n",
    "\n",
    "Databricks AI/BI Dashboards offer user interactivity even if you, the dashboard author, don't do any extra work. To see this, hover over the Order History bar chart's bars. A tooltip pops up for each sales-value bar giving its exact value, as well as the sales-count line's value for that month.\n",
    "\n",
    "That's not all. Try clicking on one of the boxes in the heatmap. Notice that all the other visualizations adjust to focus on that sales rep and that state. To undo that adjustment, click again on the same box you clicked on. Now try clicking on the segments of the pie chart. This feature, called cross-filtering, lets your users get more information out of your dashboards with no extra work on your part and no need for them to ask you for help. (Again, to undo the adjustment, click once more on the pie-chart segment you clicked on.)\n",
    "\n",
    "But what if a user wants to refine an entire visualization in a more complex or precise way? Maybe they want to hone in, say, a time-range or a product or a sales rep of interest. Filters are widgets that allow dashboard viewers to do just that. All you have to do is to build the appropriate widget into your dashboard, and AI/BI Dashboards does the rest.\n",
    "\n",
    "Local filters automatically apply to all the visualizations on the same page that share their dataset. That means that the more distinct datasets your dashboard is built on, the more filter widgets you might have to offer, and the more you'll have to help users understand which filters work with which visualizations. It is wise to be economical with the number of datasets in a dashboard.\n",
    "\n",
    "To add a filter on orders across a user's preferred date range to the dashboard, complete the following steps:\n",
    "\n",
    "1. Return to the **Untitled Page** tab if you navigated away.  \n",
    "1. Click the icon in the palette for adding a filter, which looks like a tiny funnel.\n",
    "1. Land the new widget wherever it is convenient for now. Click in the new widget to give it focus.\n",
    "1. When the filter widget is selected, the filter configuration panel appears on the right side of the screen.\n",
    "  \n",
    "1. Apply the following settings:  \n",
    "  - **Filter**: Date range picker\n",
    "  - **Fields**: Expand the **orderhistory** dataset and choose **orderdate**\n",
    "6. Use the checkboxes to turn on **Title**.  \n",
    "\n",
    "1. Click the placeholder title on the new filter widget and change it to **Order Date**  \n",
    "\n",
    "Let's add a global filter. To add a global filter for products to the dashboard, complete the following steps:\n",
    "\n",
    "8. Return to the **Untitled page** tab if you navigated away.  \n",
    "1. Click the filter icon to the left of **Untitled page** at the top of the canvas.\n",
    "1. You'll notice a new panel opens on the left for filters. Click the **+** to add a global filter. Click in the new filter to give it focus if not already selected.\n",
    "1. When the filter is selected, the filter configuration panel appears on the right side of the screen.\n",
    "  \n",
    "1. Apply the following settings:  \n",
    "  - **Filter**: Multiple values\n",
    "  - **Fields**: Expand the **orderhistory** dataset and choose **productid**\n",
    "13. Use the checkboxes to turn on **Title**.  \n",
    "1. Click the placeholder title and change it to **Product**  \n",
    "\n",
    "1. Experiment with your filter. Notice that both the graph-style visualizations you have added so far respond to the date ranges you supply, while the **Sales Goal** counter widget does not. Why not? Did we make a good decision when we used a separate dataset to define **Sales Goal**? (Hint: our organization has established a sales goal that goes across the entire year and across all products.)\n",
    "1. To clear the date filter and return to a display of all the data, click the tiny calendar icon at the right edge of the filter box and choose **All** from the resulting pulldown.\n",
    "1. Move the local filter widget you created into the empty space underneath the sales-goal counter widget. Now it is at the top of the dashboard, a very visually prominent location that will remind users when a filter is active. You can close the global filters panel by clicking the **X**.\n",
    "\n",
    "\n"
   ]
  },
  {
   "cell_type": "markdown",
   "metadata": {
    "application/vnd.databricks.v1+cell": {
     "cellMetadata": {},
     "inputWidgets": {},
     "nuid": "d1585ce8-23a9-4061-a89e-b7d693331266",
     "showTitle": false,
     "tableResultSettingsMap": {},
     "title": ""
    }
   },
   "source": [
    "---\n",
    "The image below is supplied as an example of how your dashboard's first page could appear once you've finished adding visualizations and customizing the colors and features of the dashboard. The lab activity continues below the image.\n",
    "\n",
    "![Description](../Includes/images/australia_sales_dashboard_lab_solution_new.png)"
   ]
  },
  {
   "cell_type": "markdown",
   "metadata": {
    "application/vnd.databricks.v1+cell": {
     "cellMetadata": {},
     "inputWidgets": {},
     "nuid": "dcd88ac1-70aa-4335-ac46-992ea7eabfb1",
     "showTitle": false,
     "tableResultSettingsMap": {},
     "title": ""
    }
   },
   "source": [
    "### F: Adding another page to the dashboard\n",
    "\n",
    "Sometimes it is helpful to let people browse the underlying data. Let's give that opportunity, but put it on a separate page, so as not to clutter up the main page. \n",
    "\n",
    "1. Return to the **Untitled page** tab if you navigated away.  \n",
    "\n",
    "1. Because we are now going to have two pages, let's rename the first one to something helpful. Click the kebab menu next to **Untitled page**, choose **Rename**, and specify a new name of **Visualizations**.\n",
    "\n",
    "1. Now click the `+` icon to the right of **Visualizations** to add a new page. Click the kebab menu next to the newly created **Untitled page**, choose **Rename**, and specify a new name of **Browse data**."
   ]
  },
  {
   "cell_type": "markdown",
   "metadata": {
    "application/vnd.databricks.v1+cell": {
     "cellMetadata": {},
     "inputWidgets": {},
     "nuid": "de384c13-52b9-49d9-83bc-0a7872494a68",
     "showTitle": false,
     "tableResultSettingsMap": {},
     "title": ""
    }
   },
   "source": [
    "---\n",
    "#### Adding a table widget to the dashboard's second page\n",
    "\n",
    "Now that we have a separate page, we can let people browse the underlying data if they wish without cluttering our handsome graphs.\n",
    "\n",
    "1. Return to the **Browse data** page tab if you navigated away.  \n",
    "\n",
    "1. If you are not already viewing the page called **Browse data** click on its tab at top left to toggle to it.\n",
    "\n",
    "1. Select **Add a visualization** from the menu at the bottom of the canvas and click on the canvas to add the visualization. \n",
    "\n",
    "1. In the **Configuration Panel** on the right, make the following selections for the settings: \n",
    "\n",
    "    - **Dataset**: **orderhistory**\n",
    "    - **Visualization**: Table\n",
    "    - **Columns**: \n",
    "      - Click the box for **Show/hide all** to add all the fields to the table.\n",
    "      - Click the eye icon next to the **orderid**, **customerid**, and **productid** fields to hide them.\n",
    "\n",
    "1. Grab the right edge of the widget and expand it to the full width of the page.\n",
    "\n",
    "Notice that, just as with a spreadsheet, your users can sort all the data by clicking on the header. Clicking once selects ascending order and clicking again selects descending order.\n",
    "\n",
    "Does the date selection widget on the front page of the dashboard affect this table? What about the global filter for product?\n"
   ]
  },
  {
   "cell_type": "markdown",
   "metadata": {
    "application/vnd.databricks.v1+cell": {
     "cellMetadata": {},
     "inputWidgets": {},
     "nuid": "af3390af-6bac-4703-8e0a-fa03dd165290",
     "showTitle": false,
     "tableResultSettingsMap": {},
     "title": ""
    }
   },
   "source": [
    "### G: Securely share your dashboard\n",
    "\n",
    "When your dashboard is complete, to share it with others, you need to publish it. \n",
    "\n",
    "Published dashboards can be shared with other named users in your workspace. You can also share them with users registered at the account level: that is, users registered to your Databricks account who may not have been assigned any specific Databricks resources. Frequently leaders and line-of-business workers are in this category. This capability helps you deliver data insights to people who are not data professionals. \n",
    "\n",
    "When you publish a dashboard, the default setting is to **embed credentials**. Embedding credentials in your published dashboard allows dashboard viewers to **use your credentials to access the data and power the queries that support it**. If you choose not to embed credentials, dashboard viewers use their own credentials to access necessary data and compute power. If a viewer does not have access to the default SQL warehouse that powers the dashboard, or if they do not have access to the underlying data, _visualizations will not render._\n",
    "\n",
    "To publish your dashboard, complete the following steps:\n",
    "\n",
    "1. Click <b>Publish</b> in the upper-right corner of your dashboard. Read the setting and notes in the <b>Publish</b> dialog. </p>\n",
    "2. Click <b>Publish</b> in the lower-right corner of the dialog. The <b>Sharing</b> dialog should open afterward. If it does not open, you can select **Share** next to **Publish** at the top of the dashboard.\n",
    "    - You can use the text field to search for individual users, or share the dashboard with a preconfigured group, like <b>Admins</b> or <b>All workspace users</b>. From this window, you can grant leveled privileges like <b>Can Manage</b> or <b>Can Edit</b>. See <a href=\"https://docs.databricks.com/en/security/auth-authz/access-control/index.html#lakeview\" target=\"_blank\">Dashboard ACLs</a> for details on permissions.\n",
    "    - The bottom of the <b>Sharing</b> dialog controls view access. Use this setting to easily share with all account users.\n",
    "3. <p style=\"color: #0873FF\"> Under <b>Sharing settings</b>, choose <b>Anyone in my account can view</b> from the drop-down. Then, close the <b>Sharing</b> dialog. </p>\n",
    "4. <p style=\"color: #0873FF\"> Use the drop-down near the top of the dashboard to switch between <b>Draft</b> and <b>Published</b> versions of your dashboard. </p>\n",
    "\n",
    "**\uD83D\uDCCC Note:** When you edit your draft dashboard, viewers of the published dashboards do not see your changes until you republish. The published dashboard includes visualizations that are built on queries that can be refreshed as new data arrives. When dashboards are refreshed, they updated with new data automatically; the dashboards do not need to be republished."
   ]
  },
  {
   "cell_type": "markdown",
   "metadata": {
    "application/vnd.databricks.v1+cell": {
     "cellMetadata": {},
     "inputWidgets": {},
     "nuid": "ad97d07a-f4c4-496e-9db1-36a53c6456c3",
     "showTitle": false,
     "tableResultSettingsMap": {},
     "title": ""
    }
   },
   "source": [
    "### H: Establish a refresh schedule\n",
    "\n",
    "A refresh schedule helps you optimize the performance of  dashboards built on datasets that grow and change. You can schedule a regular refresh of the data in your dashboard, thus ensuring that Databricks' cache of data is up-to-date. The refresh schedule dialogue is also where you can manage users' subscriptions to your dashboard. Subscribed users get an email at every refresh with a snapshot image of the first page of the dashboard, as well as a link back to the live dashboard in Databricks.\n",
    "\n",
    "1. Navigate to the published view of your dashboard if you are not already there. The **Draft**/**Published** pulldown at top should show a green circle.\n",
    "1. Click on the **Schedule** button at top right. If applicable, select **+ Schedule**.\n",
    "\n",
    "1. Use the user interface to establish a daily refresh schedule. Choose a time that is in a few minutes.\n",
    "1. Click to **Create** the schedule.\n",
    "1. Click the **Schedule (1)** button again and use the **Subscribe** button to subscribe to the refresh schedule.\n",
    "1. Using the kebab menu icon to the right of the **Subscribe** button, select **Edit**. From here you can switch the view to the **Subscribers** tab and view all users who've subscribed to that particular refresh schedule.\n",
    "1. Select **Cancel** to leave the **Edit schedule** dialogue.\n",
    "\n",
    "  In a production Databricks instance you would use this user interface to manage the subscribers to your dashboard. As a security measure, you cannot subscribe arbitrary email addresses to your dashboard. Only users with a Databricks account in this Databricks workspace can subscribe.\n",
    "\n",
    "  1. Click the **Schedule (1)** button again. Using the kebab menu icon to the right of the **Subscribe** button to **Delete** the schedule."
   ]
  },
  {
   "cell_type": "markdown",
   "metadata": {
    "application/vnd.databricks.v1+cell": {
     "cellMetadata": {},
     "inputWidgets": {},
     "nuid": "431fbcd6-bd7f-45c1-9108-19182f1d6c5a",
     "showTitle": false,
     "tableResultSettingsMap": {},
     "title": ""
    }
   },
   "source": [
    "---\n",
    "### Appendix: Sample SQL Query\n",
    "\n",
    "Here is a query you can use to define the dashboard's main **electricitySupplyDemand** dataset.\n",
    "\n",
    "```\n",
    "SELECT\n",
    "  d.*,\n",
    "  s.supply_MW,\n",
    "  s.fuel_type,\n",
    "  s.region,\n",
    "  t.temperature_C\n",
    "FROM dbacademy.YOURSCHEMA.aeso_january_2024_demand d\n",
    "LEFT JOIN dbacademy.YOURSCHEMA.aeso_january_2024_supply s\n",
    "  ON d.datetime_MST = s.datetime_MST\n",
    "LEFT JOIN dbacademy.YOURSCHEMA.calgary_january_2024_temperature t\n",
    "  ON d.datetime_MST = t.datetime_MST\n",
    "```\n",
    "\n",
    "\n"
   ]
  },
  {
   "cell_type": "markdown",
   "metadata": {
    "application/vnd.databricks.v1+cell": {
     "cellMetadata": {},
     "inputWidgets": {},
     "nuid": "58f908bf-a818-4f46-9d43-e07cda1c4940",
     "showTitle": false,
     "tableResultSettingsMap": {},
     "title": ""
    }
   },
   "source": [
    "---\n",
    "### Challenge activity: Opportunities page\n",
    "\n",
    "If you have time, enhance your dashboard by adding a third page and presenting helpful visualizations of the opportunities table. To do so, you'll need to define a new dataset that joins the **opportunities** table to the **au_customers** table and then explore the data in the table. What fields are present? What visualizations might be interesting? Consider visualizations that compare the opportunities by sales phase and by sales rep."
   ]
  },
  {
   "cell_type": "markdown",
   "metadata": {
    "application/vnd.databricks.v1+cell": {
     "cellMetadata": {},
     "inputWidgets": {},
     "nuid": "37125c84-6b29-45d7-a4eb-398f0373cc03",
     "showTitle": false,
     "tableResultSettingsMap": {},
     "title": ""
    }
   },
   "source": [
    "\n",
    "&copy; 2025 Databricks, Inc. All rights reserved. Apache, Apache Spark, Spark, the Spark Logo, Apache Iceberg, Iceberg, and the Apache Iceberg logo are trademarks of the <a href=\"https://www.apache.org/\" target=\"blank\">Apache Software Foundation</a>.<br/>\n",
    "<br/><a href=\"https://databricks.com/privacy-policy\" target=\"blank\">Privacy Policy</a> | \n",
    "<a href=\"https://databricks.com/terms-of-use\" target=\"blank\">Terms of Use</a> | \n",
    "<a href=\"https://help.databricks.com/\" target=\"blank\">Support</a>"
   ]
  }
 ],
 "metadata": {
  "application/vnd.databricks.v1+notebook": {
   "computePreferences": null,
   "dashboards": [],
   "environmentMetadata": null,
   "inputWidgetPreferences": null,
   "language": "sql",
   "notebookMetadata": {
    "pythonIndentUnit": 4
   },
   "notebookName": "1.10 - Alberta Energy Grid Lab - Dashboard and Visualization Activity",
   "widgets": {}
  },
  "language_info": {
   "name": "sql"
  }
 },
 "nbformat": 4,
 "nbformat_minor": 0
}