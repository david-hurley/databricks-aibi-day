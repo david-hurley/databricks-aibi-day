{
 "cells": [
  {
   "cell_type": "markdown",
   "metadata": {
    "application/vnd.databricks.v1+cell": {
     "cellMetadata": {},
     "inputWidgets": {},
     "nuid": "f15b4123-cdbe-491c-8bd3-034ed71d2d53",
     "showTitle": false,
     "tableResultSettingsMap": {},
     "title": ""
    }
   },
   "source": [
    "\n",
    "<div style=\"text-align: center; line-height: 0; padding-top: 9px;\">\n",
    "  <img src=\"https://databricks.com/wp-content/uploads/2018/03/db-academy-rgb-1200px.png\" alt=\"Databricks Learning\">\n",
    "</div>\n"
   ]
  },
  {
   "cell_type": "markdown",
   "metadata": {
    "application/vnd.databricks.v1+cell": {
     "cellMetadata": {},
     "inputWidgets": {},
     "nuid": "26c04b6d-2ad5-40cf-bb0c-4dc0a279e8bf",
     "showTitle": false,
     "tableResultSettingsMap": {},
     "title": ""
    }
   },
   "source": [
    "## 1.10 - Alberta Energy Grid Lab - Dashboard and Visualization Activity\n",
    "\n",
    "Databricks AI/BI Dashboards help you quickly transform data into shareable insights. \n",
    "\n",
    "In this lesson, you will create a dashboard and make it useful by adding text, data, and interactive visualizations.\n",
    "\n",
    "This lesson uses the following resources:\n",
    "- Tables:\n",
    "  - Catalog: dbacademy\n",
    "  - Schema: {dynamically named, personal to you}\n",
    "  - Tables:\n",
    "    - aeso_january_2024_demand\n",
    "    - aeso_january_2024_supply\n",
    "    - calgary_january_2024_temperature\n",
    "\n",
    "#### Background\n",
    "These tables contain real data representing electricity supply and demand and air temperature for the month of January 2024 in Alberta. Between January 11-14 2024, Alberta experienced a perfect storm of low renewable generation (i.e. wind and solar), extreme cold temperatures, and gas plant outages. This led the Alberta Electricity System Operator (AESO) to issue a \"state of emergency\" and that rolling outages would be required if demand was not decreased in order to keep critical infrastructure online.\n",
    "\n",
    "#### Objective\n",
    "The **aeso_january_2024_demand** and **aeso_january_2024_supply** tables contain hourly electricity demand and supply data, respectively, in MWs. The **calgary_january_2024_temperature** contains hourly air temperatures, in Celsius, as measured at the Calgary International Airport. These three tables are related via datetime. \n",
    "\n",
    "You'll use the data in these tables to prepare your dashboard and explore the data to understand more about the electricity shortage that occured in mid-January 2024. \n"
   ]
  },
  {
   "cell_type": "markdown",
   "metadata": {
    "application/vnd.databricks.v1+cell": {
     "cellMetadata": {},
     "inputWidgets": {},
     "nuid": "659b4c9d-d682-42b1-8eff-edea25e14498",
     "showTitle": false,
     "tableResultSettingsMap": {},
     "title": ""
    }
   },
   "source": [
    "### REQUIRED: Course Setup and Data Discovery\n",
    "In this particular lab exercise, a setup script will create tables from CSV in a GitHub Repository and share into a schema you control. To get started, click the small triangle Run button in the top left of the cell below.\n",
    "\n",
    "---"
   ]
  },
  {
   "cell_type": "code",
   "execution_count": 0,
   "metadata": {
    "application/vnd.databricks.v1+cell": {
     "cellMetadata": {
      "byteLimit": 2048000,
      "rowLimit": 10000
     },
     "inputWidgets": {},
     "nuid": "60c6606a-8a37-4035-8dac-fde301c73638",
     "showTitle": false,
     "tableResultSettingsMap": {},
     "title": ""
    }
   },
   "outputs": [],
   "source": [
    "%run \"./includes/aeso_setup\""
   ]
  },
  {
   "cell_type": "markdown",
   "metadata": {
    "application/vnd.databricks.v1+cell": {
     "cellMetadata": {},
     "inputWidgets": {},
     "nuid": "070a8acb-7a9a-466d-b0d7-0cd58ed3780e",
     "showTitle": false,
     "tableResultSettingsMap": {},
     "title": ""
    }
   },
   "source": [
    "After running the above, it prints out the name of your catalog and your schema. The schema will have a randomly generated name. Make a note of this value. In these instructions, we'll call this simply \"your schema.\"\n",
    "\n",
    "To use the Catalog Explorer, follow the steps below.\n",
    "\n",
    "1. Select **Catalog** from the sidebar navigation.\n",
    "1. In the catalog selector, locate the catalog titled: **dbacademy**. You can also use the search at the top to narrow down the available options.\n",
    "1. Expand your schema. You should see three tables in this schema.\n",
    "    - aeso_january_2024_demand\n",
    "    - aeso_january_2024_supply\n",
    "    - calgary_january_2024_temperature"
   ]
  },
  {
   "cell_type": "markdown",
   "metadata": {
    "application/vnd.databricks.v1+cell": {
     "cellMetadata": {},
     "inputWidgets": {},
     "nuid": "14f67d18-4d83-4c78-8580-f21a0651af2f",
     "showTitle": false,
     "tableResultSettingsMap": {},
     "title": ""
    }
   },
   "source": [
    "### A: Create a new Dashboard\n",
    "The first step in creating a new dashboard in Databricks is to decide upon the business purpose of the dashboard and its audience. For this dashboard, the business purpose will be to provide information on the January 2024 electricity shortage in Alberta. The intended audience is business is any employee who may need to make decisions or plan based on historical electricity supply and demand.\n",
    "\n",
    "**📌 NOTE:** Many of the following instructions take place in a non-notebook area of the platform. It is recommended to open either the notebooks in a separate tab or window to reference the instructions alongside the area where they are performed.\n",
    "\n",
    "In the Databricks user interface, create a new, blank dashboard. \n",
    "* Navigate to **Dashboards** in the side navigation pane.\n",
    "* Select **Create dashboard**. \n",
    "* At the top left of the dashboard definition panel, click on the placeholder dashboard name (\"New Dashboard\" followed by a timestamp) and change it to **Alberta Energy Grid Analysis**.\n",
    "\n"
   ]
  },
  {
   "cell_type": "markdown",
   "metadata": {
    "application/vnd.databricks.v1+cell": {
     "cellMetadata": {},
     "inputWidgets": {},
     "nuid": "dfd887c0-ad6f-4785-9496-ac66790a2bdf",
     "showTitle": false,
     "tableResultSettingsMap": {},
     "title": ""
    }
   },
   "source": [
    "### B: Examine and Augment the Main Dataset\n",
    "\n",
    "With a completely new Dashboard, you need to associate the dashboard with data before you can begin designing the information display itself. At the top of the dashboard screen, you have two tabs, **Data** and **Untitled page**. \n",
    "\n",
    "- **Data:** The **Data** tab allows you to define datasets that you will use in the dashboard. Datasets are bundled with dashboards when sharing, importing, or exporting them using the UI or API.\n",
    "\n",
    "- **Untitled page:** This is the dashboard canvas that allows users to create visualizations and construct their dashboards. Each item on the canvas is called a widget. Widgets have three types: visualizations, text boxes, and filters.\n",
    "\n",
    "You start off on the **Untitled page** tab so that you can see the helpful overview that's provided. Select the **Data** tab to get started. \n",
    "\n",
    "There are three small icons on the left side of the **Data** tab's screen area: **Datasets**, **Catalog**, and **Assistant**. \n",
    "* **Datasets** (an icon depicting a list) will present you with a list of all the datasets used for the dashboard. This is where we start; it's empty now.\n",
    "* **Catalog** (the standard Databricks Catalog icon, three tiny shapes) allows you to navigate the available catalogs, schemas, and tables accessible to the workspace and select tables or materialized views to use as datasets.\n",
    "* **Assistant** (the standard Databricks Assistant icon, a tiny four-pointed star) provides you with a AI-powered interface for asking queries in natural language to the platform to discover objects or gain insights or assistance on query writing. \n",
    "\n",
    "  **📌 NOTE**: \n",
    "\n",
    "  - Throughout these instructions, replace **`YOURSCHEMA`** with the name of your schema. (You can find your schema name in the setup run cell executed earlier in this notebook.)\n",
    "\n",
    "1. With the **Datasets list** icon selected, click the **+ Create from SQL** button. Right-click the newly created query in the **Datasets** list and select **Rename**, or use the kebab menu, to rename the query as **TotalElectricitySupplyDemand**.  \n",
    "\n",
    "2. Let's borrow the SQL editor panel to look at the data in the **aeso_january_2024_demand** and **aeso_january_2024_supply** table. First, let's see what's in the **aeso_january_2024_demand** table. Paste in this query:\n",
    "\n",
    "```\n",
    "SELECT * from dbacademy.YOURSCHEMA.aeso_january_2024_demand LIMIT 10;\n",
    "```\n",
    "\n",
    "  Then click the **Run** button. \n",
    "\n",
    "  We see a datetime_MST field, which is a date type and in Mountain Standard Time, and a demand_MW field consisting of electricity demand in MW. This table will tell us about the hourly electricity demand on the Alberta grid, but it would be great if we could join this table with electricity supply data so that we can understand the complete demand and supply picture.  \n",
    "\n",
    "3. Fortunately, our schema contains a **aeso_january_2024_supply** table. Use your mouse to clear the previous query from the SQL editor panel and paste this one in instead:\n",
    "\n",
    "```\n",
    "SELECT * from dbacademy.YOURSCHEMA.aeso_january_2024_supply LIMIT 10;\n",
    "```\n",
    "\n",
    "  Then click the **Run** button. \n",
    "\n",
    "  We again see a datetime_MST field along with supply_MW, fuel_type, and region fields. These field represent the electricity supply to the grid from each fuel_type (i.e. source) in various regions of Alberta. This table will tell us about the hourly electricity demand on the Alberta grid, but it would also be great if we could see air temperatures since we know extreme cold or hot temperatures drive increased electricity demand. \n",
    "\n",
    "4. Again, our schema contains a **calgary_january_2024_temperature** table.  Use your mouse to clear the previous query from the SQL editor panel and paste this one in instead:\n",
    "\n",
    "```\n",
    "SELECT * from dbacademy.YOURSCHEMA.calgary_january_2024_temperature LIMIT 10;\n",
    "```\n",
    "\n",
    "  Then click the **Run** button. \n",
    "\n",
    "  We can see this table contains hourly temperatures in degrees Celsius. The location, while note defined, is the Calgary International Airport. \n"
   ]
  },
  {
   "cell_type": "markdown",
   "metadata": {
    "application/vnd.databricks.v1+cell": {
     "cellMetadata": {},
     "inputWidgets": {},
     "nuid": "b11c5b7f-8c71-48d5-92e8-40cb2589d245",
     "showTitle": false,
     "tableResultSettingsMap": {},
     "title": ""
    }
   },
   "source": [
    "### C: Define the Main Dataset\n",
    "\n",
    "Now we know our schema has useful information for understanding the January 2024 electricity shortage in Alberta and the drivers of this shortage. \n",
    "\n",
    "In the \"real\" world, you would likely want to show historical and near real-time data of electricity supply, demand, and weather. This would allow analysts to not only review past events and causes but also forecast for the future - switching from reactionary to a proactive approach. We have included links to the data sources in the Appendix at the end of this lab excercise if you want to take this analysis further. \n",
    "\n",
    "1. Be sure that you are in the Databricks user interface window, and in its Dashboards dataset definition screen. The **TotalElectricitySupplyDemand** dataset should be selected. Use your mouse to clear any previous query from the SQL editor panel. \n",
    "1. Now click the Assistant icon at left. \n",
    "1. In the Assistant chat box, describe the SQL query you need. \n",
    " Specifically: \n",
    " \n",
    "    `I want a query that returns all the fields in dbacademy.YOURSCHEMA.aeso_january_2024_demand, plus the sum of supply_MW from dbacademy.YOURSCHEMA.aeso_january_2024_supply table. The sum should be grouped by datetime_MST on the supply table. Then join these two tables on the datetime_MST field. Rename demand_MW as total_demand_MW and same for supply.`\n",
    "\n",
    "     Feel free to use the above query description or rewrite it in your own words.\n",
    "\n",
    " ---\n",
    "**TIPS FOR SUCCESS**\n",
    "\n",
    "* You don't have to get the Databricks Assistant to produce the perfect SQL query. Use it to get  close to the goal, and then touch up the final query as needed. \n",
    "\n",
    "* In the context of defining a dashboard, always name tables with their full three-part form: _catalog_._schema_._table_. \n",
    "\n",
    "* Sometimes Databricks Assistant guesses wrong about the exact name of the field that binds two tables together. You can tell it explicitly what field to join on, as we did in our query description above. Or your data engineers can help Databricks Assistant in a more permanent way by defining the underlying tables to have a [constraint clause](https://docs.databricks.com/en/sql/language-manual/sql-ref-syntax-ddl-create-table-constraint.html). \n",
    "\n",
    "---\n",
    "\n",
    "**Feel free to use the above query description or rewrite it in your own words.**\n",
    "1. Copy the SQL query that Assistant suggests and paste it into the SQL editor panel in the center of the screen (over the words \"Start typing...\").\n",
    "1. Run your query and see if it works! You may need to adjust it. If there is an error, Assistant will display a \"Diagnose error\" button to inspect your SQL and offer a corrected query. Copy the new query back into the SQL editor panel, overwriting the previous attempt, and try to run it again. You might need to use the \"Diagnose error\" button more than once.\n",
    "\n",
    "    If you get stuck, a sample query you can use is at the end of this lab exercise. \n",
    " \n",
    "1. If you like, you can close the Assistant window by clicking the X at top right. But you can always return to it, with full history, by clicking the Assistant icon.\n",
    "\n"
   ]
  },
  {
   "cell_type": "markdown",
   "metadata": {
    "application/vnd.databricks.v1+cell": {
     "cellMetadata": {},
     "inputWidgets": {},
     "nuid": "db6ed0d6-b8f4-444f-8494-c17d0a61a2cf",
     "showTitle": false,
     "tableResultSettingsMap": {},
     "title": ""
    }
   },
   "source": [
    "### D: Add Two More Datasets - SupplyByFuelTypeRegion and HourlyAirTemperature\n",
    "\n",
    "1. Still in the **Data** tab, select the **+ Create from SQL** option. \n",
    "2. Enter the following query into the query editing space:\n",
    "```\n",
    "SELECT * FROM dbacademy.YOURSCHEMA.aeso_january_2024_supply;\n",
    "```\n",
    "3. Click **Run** to execute the query. \n",
    "4. Right-click the newly created query in the **Datasets** list and select **Rename**, or use the kebab menu, to rename the dataset it constitutes as **SupplyByFuelTypeRegion**.\n",
    "5. Now create another dataset but this time with the query below:\n",
    "```\n",
    "SELECT * FROM dbacademy.YOURSCHEMA.calgary_january_2024_temperature;\n",
    "```\n",
    "6. Click **Run** to execute the query. \n",
    "7. Right-click the newly created query in the **Datasets** list and select **Rename**, or use the kebab menu, to rename the dataset it constitutes as **HourlyAirTemperature**.\n",
    "\n",
    "Now your dashboard has a total of three datasets."
   ]
  },
  {
   "cell_type": "markdown",
   "metadata": {
    "application/vnd.databricks.v1+cell": {
     "cellMetadata": {},
     "inputWidgets": {},
     "nuid": "089ae9d3-e219-4c04-adb8-f86f24a788c8",
     "showTitle": false,
     "tableResultSettingsMap": {},
     "title": ""
    }
   },
   "source": [
    "### E: Add Visualizations\n",
    "---\n",
    "#### Adding a Text Box\n",
    "\n",
    "Let's add a name and a space for a text description of the dashboard to the canvas. When adding a new widget to the canvas, other widgets automatically move to accommodate your placement. You can use your mouse to move and resize widgets. To delete a widget, right-click it and choose **Delete** from the resulting context menu. \n",
    "\n",
    "Complete the following steps to add a text box to the dashboard:\n",
    "\n",
    "1. Click on the **Untitled page** tab at top right to switch to the canvas view.\n",
    "1. At the bottom of the screen you have a palette for adding various widgets. Click the icon in the palette for adding a text box and drag the resulting widget to the top of your canvas. The text-box icon looks like a T in a small rectangle.\n",
    "1. Click into the just-placed widget and type: `# Alberta Energy Grid`\n",
    "\n",
    "    **📌 Note:** Text boxes use [Markdown](https://daringfireball.net/projects/markdown/syntax) syntax. The single `#` character in the included texts indicates that <b>Alberta Energy Grid</b> is to be styled as a level-1 heading. \n",
    "\n",
    "1. On the next line, type a brief explanation of what this dashboard is for, such as \"This dashboard helps you review historical electricity supply and demand and air temperature for Alberta\". Append an invitation for users to email you with feedback using Markdown's embedded-link syntax:\n",
    "\n",
    "   `[Send me feedback!](mailto:your@email.address)`\n",
    "\n",
    "\n",
    "1. Now open up a new line above the Alberta Energy Grid header. Here you will add a company logo. First type the Markdown syntax for an embedded image:\n",
    "\n",
    "    `![company logo]()` \n",
    "\n",
    "    (Whatever is between the square brackets will be treated as alt text.)\n",
    "    \n",
    "    Now get an image URL into your browser's clipboard. You can right-click on the image below and capture its link address to use it, or you can use another logo, such as your own company's. Just make sure that the image is small. (Pro-tip: open the image in a new browser tab to confirm that it is small before proceeding.)\n",
    "\n",
    "    If you want the AESO logo you can use `https://upload.wikimedia.org/wikipedia/en/f/f8/Aeso_logo.gif` between the `()` brackets\n",
    "\n",
    "1. Drag the right edge of the text widget inward so that it is about 1/2 the width of the dashboard. You are making room for a widget to sit to the right of the title. Adjust the bottom edge as needed so that all the contents of the text box are visible.\n"
   ]
  },
  {
   "cell_type": "markdown",
   "metadata": {
    "application/vnd.databricks.v1+cell": {
     "cellMetadata": {},
     "inputWidgets": {},
     "nuid": "9d8b3d25-6a32-4cf5-a063-24f9b4f13f0e",
     "showTitle": false,
     "tableResultSettingsMap": {},
     "title": ""
    }
   },
   "source": [
    "---\n",
    "#### Adding a Counter\n",
    "\n",
    "The first visualization we'll be adding to the dashboard is a counter visualization to display the average supply vs demand during a the dataset time window. We want to highlight when we have a supply shortage.\n",
    "\n",
    "1. Return to the **Untitled page** tab if you navigated away.  \n",
    "2. Click the icon in the palette for adding a visualization, which is a tiny thumbnail of a line chart.  \n",
    "3. Move your cursor to anywhere on the screen and click to add the visualization to the canvas.  \n",
    "4. In the configuration panel on the right, make the following selections for the settings:\n",
    "    - **Dataset:** **TotalElectricitySupplyDemand**\n",
    "    - **Visualization:** Counter\n",
    "    - **Title:** Checked\n",
    "      - Click on **Widget Title** on the visualization.\n",
    "      - Change it by typing over it to **Average Supply vs Demand**.\n",
    "    - **Value:** AVG(total_supply_MW)\n",
    "    - **Target:** AVG(total_demand_MW)\n",
    "\n",
    "1. In the Style section, click the **+** next to **Conditional Style**. Configure it with the following settings:\n",
    "    - If Value <= Target\n",
    "    - Then (Color: Red)\n",
    "\n",
    "Adjust the width of the counter visualization so that it is 1/2 the width of the dashboard, then drag the edges or click-hold while hovering over the visualization box to put it to the right of the title box. Adjust the height of the counter visualization so that it is 1/2 the height of the adjacent text box. "
   ]
  },
  {
   "cell_type": "markdown",
   "metadata": {
    "application/vnd.databricks.v1+cell": {
     "cellMetadata": {},
     "inputWidgets": {},
     "nuid": "089b8cba-52a4-43eb-8cc7-b97fba256ccb",
     "showTitle": false,
     "tableResultSettingsMap": {},
     "title": ""
    }
   },
   "source": [
    "---\n",
    "#### Adding a combo chart\n",
    "Next, let's add another visualization, this time a Combo Chart containing information about hourly electricity demand and supply over the month of January.\n",
    "\n",
    "1. Return to the **Untitled page** tab if you navigated away.  \n",
    "2. Click the icon in the palette for adding a visualization.\n",
    "3. Land the new widget on the left side of the canvas underneath the text box. Click in the new widget to give it focus. \n",
    "4. In the **Configuration Panel** on the right, make the following selections for the settings:\n",
    "    - **Dataset**: **TotalElectricitySupplyDemand**\n",
    "    - **Title:** Checked\n",
    "      - Click on **Widget Title** on the visualization.\n",
    "      - Change it by typing over it to **Hisotrical Daily Maximum Supply and Demand**.\n",
    "    - **Visualization**: Combo\n",
    "    - **X axis**: Click the **+** and select **datetime_MST**.\n",
    "      Notice that the dialogue guesses that we want to view the data on a monthly basis by replacing **datetime_MST** with **MONTHLY(datetime_MST)**.\n",
    "\n",
    "        Click on **MONTHLY(datetime_MST)** and change to **DAILY** then fill in **Datetime (MST)** for the **Display name**.\n",
    "    - In the **Y axis** section:\n",
    "      - **Bar**: Click the **+** and select **total_demand_MW**.\n",
    "      Notice that the dialogue guesses that we want to sum the demand amounts by replacing **total_demand_MW** with **SUM(total_demand_MW)**. Instead, change this to **MAX**. It knows that these maximum should be on a daily basis, because that is the grouping selected for the X axis.\n",
    "\n",
    "        Click on **MAX(total_demand_MW)** and fill in **Total Demand** for the **Display name**.\n",
    "      - **Line**: Click the **+** and select **total_supply_MW**. \n",
    "      Again, the dialouge guesses that we want a sum but change this to **MAX**.\n",
    "              \n",
    "        Click on **MAX(total_supply_MW)** and fill in **Total Supply** for the **Display name**.\n",
    "\n",
    "5. Now, select the three dots next to **Y axis** and change the axis title to **MW**. You can also adjust the colors for the series by selecting the color blocks next to series names.\n",
    "\n",
    "6. Lastly, we don't really need to start at **0** on the Y axis. Instead, let's again click the three dots next to **Y axis** and set the **minimum** to **8000**. This gives us a more detailed look at the daily supply and demand maximums. \n",
    "\n",
    "    **📌 Note:** Feel free to try plotting hourly values but be aware that the more data points in the visual the slower the load time. "
   ]
  },
  {
   "cell_type": "markdown",
   "metadata": {
    "application/vnd.databricks.v1+cell": {
     "cellMetadata": {},
     "inputWidgets": {},
     "nuid": "0d40c1d8-2f77-402f-a505-a6f455e8d62f",
     "showTitle": false,
     "tableResultSettingsMap": {},
     "title": ""
    }
   },
   "source": [
    "---\n",
    "#### Adding a Line chart using Databricks Assistant\n",
    "\n",
    "When drafting a dashboard, you can provide a natural language prompt to the Databricks Assistant and it autogenerates a chart based on your request. The Databricks Assistant can help you build charts based on any dataset defined in your dashboard's data tab. Let's try it out.\n",
    "\n",
    "Complete the following steps:\n",
    "\n",
    "1. Return to the **Untitled page** tab if you navigated away.  \n",
    "1. Click the icon in the palette for adding a visualization.\n",
    "1. Land the new widget on the left side of the canvas underneath the Combo chart box. Click in the new widget to give it focus and select the **HourlyAirTemperature** dataset\n",
    "1. In the \"Ask the Assistant to create a chart...\" box at the top of your new widget, enter the following prompt:  \n",
    "\n",
    "    `Create a timeseries plot of temperature`\n",
    "\n",
    "1. Click the paper-airplane icon to generate a response. It may take a moment for the Assistant to provide a visualization.  \n",
    "1. You will get a line chart that matches the provided description. Click <b>Accept</b> to confirm the visualization meets your needs.  \n",
    "\n",
    "    If the visualization does not match your description or match the kind of visualization you wanted to create, you can reject or regenerate the response. You can also adjust the configuration of the chart once accepted. \n",
    "  \n",
    "1. Change the color of the chart to something other than the default. Use the configuration panel's **Color** section.\n",
    "1. Check the **Title** box in the configuration panel. Then click on the placeholder widget title on the visualization. Change it by typing over it to **Hourly Air Temperature**.\n"
   ]
  },
  {
   "cell_type": "markdown",
   "metadata": {
    "application/vnd.databricks.v1+cell": {
     "cellMetadata": {},
     "inputWidgets": {},
     "nuid": "1e146c65-66bd-4794-a117-1026a4a3b429",
     "showTitle": false,
     "tableResultSettingsMap": {},
     "title": ""
    }
   },
   "source": [
    "---\n",
    "#### Adding a heatmap\n",
    "\n",
    "Let's examine what region produces what electricity by fuel type.  \n",
    "\n",
    "1. Return to the **Untitled page** tab if you navigated away.  \n",
    "1. Click the icon in the palette for adding a visualization.\n",
    "1. Land the new widget on the right side of the canvas underneath the Counter box. Click in the new widget to give it focus.  \n",
    "1. In the **Configuration Panel** on the right, make the following selections for the settings: \n",
    "\n",
    "    - **Dataset**: **SupplyByFuelTypeRegion**\n",
    "    - **Title:** Checked\n",
    "      - Click on the placeholder widget title on the visualization.\n",
    "      - Change it by typing over it to **Supply by Fuel Type and Region**.\n",
    "    - **Visualization**: Heatmap\n",
    "    - **X axis**: **fuel_type**\n",
    "\n",
    "      Click on **fuel_type** and fill in **Fuel Type** for the display name.\n",
    "    - **Y axis**: Click the **+** and choose **region**.\n",
    "      Click on **region** and fill in **Region** for the display name.\n",
    "    - **Color**: Click the **+** and choose **AVG(supply_MW)**.\n",
    "      Click on **AVG(supply_MW)** and fill in **MW** for the display name.\n",
    "\n",
    "      Click on the little color swatch and choose a more fun color ramp than the default.\n",
    "\n",
    "Which region produces the most supply from Wind? What about from Gas?\n",
    "\n",
    "\n"
   ]
  },
  {
   "cell_type": "markdown",
   "metadata": {
    "application/vnd.databricks.v1+cell": {
     "cellMetadata": {},
     "inputWidgets": {},
     "nuid": "76d555c2-776b-4f0b-be62-727d863ce1fb",
     "showTitle": false,
     "tableResultSettingsMap": {},
     "title": ""
    }
   },
   "source": [
    "---\n",
    "#### Adding a pie chart\n",
    "\n",
    "Let's show how supply by fueld type is distributed across region. To make this pie chart, complete the following steps:\n",
    "\n",
    "1. Return to the **Untitled page** tab if you navigated away.  \n",
    "1. Click the icon in the palette for adding a visualization.\n",
    "1. Land the new widget on the right side of the canvas underneath the Heatmap chart. Click in the new widget to give it focus.  \n",
    "1. In the **Configuration Panel** on the right, make the following selections for the settings: \n",
    "\n",
    "    - **Dataset**: **SupplyByFuelTypeRegion**\n",
    "    - **Title:** Checked\n",
    "      - Click on the placeholder widget title on the visualization.\n",
    "      - Change it by typing over it to **Total Supply In Period by Fuel Type (All Regions)**.\n",
    "    - **Visualization**: Pie\n",
    "    - **Angle**: **SUM(supply_MW)**\n",
    "\n",
    "      Click on the three dots next to angle and uncheck **show axis title**\n",
    "    - **Color**: Click the **+** and choose **fuel_type**.\n",
    "      Click on **fuel_type** and fill in **Fuel Type** for the display name.\n",
    "\n",
    "\n"
   ]
  },
  {
   "cell_type": "markdown",
   "metadata": {
    "application/vnd.databricks.v1+cell": {
     "cellMetadata": {},
     "inputWidgets": {},
     "nuid": "03bab6ad-85d5-4f13-ad29-24dea0d54536",
     "showTitle": false,
     "tableResultSettingsMap": {},
     "title": ""
    }
   },
   "source": [
    "---\n",
    "#### Cross-filtering, and adding filter widgets\n",
    "\n",
    "Databricks AI/BI Dashboards offer user interactivity even if you, the dashboard author, don't do any extra work. To see this, hover over the Hourly Air Temperature line chart's line. A tooltip pops up for each point on the line giving its exact value. \n",
    "\n",
    "That's not all. Try clicking on one of the boxes in the heatmap. Notice that the Pie Chart visualization adjusts to focus on that fuel type and region. To undo that adjustment, click again on the same box you clicked on. Now try clicking on the segments of the pie chart. This feature, called cross-filtering, lets your users get more information out of your dashboards with no extra work on your part and no need for them to ask you for help. (Again, to undo the adjustment, click once more on the pie-chart segment you clicked on.)\n",
    "\n",
    "But what if a user wants to refine an entire visualization in a more complex or precise way? Maybe they want to hone in, say, a time-range. Filters are widgets that allow dashboard viewers to do just that. All you have to do is to build the appropriate widget into your dashboard, and AI/BI Dashboards does the rest.\n",
    "\n",
    "Local filters automatically apply to all the visualizations on the same page that share their dataset. That means that the more distinct datasets your dashboard is built on, the more filter widgets you might have to offer, and the more you'll have to help users understand which filters work with which visualizations. It is wise to be economical with the number of datasets in a dashboard.\n",
    "\n",
    "To add a filter on orders across a user's preferred date range to the dashboard, complete the following steps:\n",
    "\n",
    "1. Return to the **Untitled Page** tab if you navigated away.  \n",
    "1. Click the icon in the palette for adding a filter, which looks like a tiny funnel.\n",
    "1. Land the new widget wherever it is convenient for now. Click in the new widget to give it focus.\n",
    "1. When the filter widget is selected, the filter configuration panel appears on the right side of the screen.\n",
    "  \n",
    "1. Apply the following settings:  \n",
    "  - **Filter**: Date range picker\n",
    "  - **Fields**: Expand the **SupplyByFuelTypeRegion** dataset and choose **region**\n",
    "6. Use the checkboxes to turn on **Title**.  \n",
    "\n",
    "1. Click the placeholder title on the new filter widget and change it to **Select Region**  \n",
    "\n",
    "Let's add a global filter. To add a global filter for products to the dashboard, complete the following steps:\n",
    "\n",
    "8. Return to the **Untitled page** tab if you navigated away.  \n",
    "1. Click the filter icon to the left of **Untitled page** at the top of the canvas.\n",
    "1. You'll notice a new panel opens on the left for filters. Click the **+** to add a global filter. Click in the new filter to give it focus if not already selected.\n",
    "1. When the filter is selected, the filter configuration panel appears on the right side of the screen.\n",
    "  \n",
    "1. Apply the following settings:  \n",
    "  - **Filter**: Date Range Picker\n",
    "  - **Fields**: Expand all three datasets and select **datetime_MST**\n",
    "13. Use the checkboxes to turn on **Title**.  \n",
    "1. Click the placeholder title and change it to **Date Range**  \n",
    "\n",
    "1. Experiment with your filter. Notice that all the visualizations and counters change.\n",
    "1. To clear the date filter and return to a display of all the data, click the tiny calendar icon at the right edge of the filter box and choose **All** from the resulting pulldown.\n",
    "1. Move the local filter widget you created into the empty space underneath the counter widget. Now it is at the top of the dashboard, a very visually prominent location that will remind users when a filter is active. You can close the global filters panel by clicking the **X**.\n",
    "\n",
    "\n"
   ]
  },
  {
   "cell_type": "markdown",
   "metadata": {
    "application/vnd.databricks.v1+cell": {
     "cellMetadata": {},
     "inputWidgets": {},
     "nuid": "d1585ce8-23a9-4061-a89e-b7d693331266",
     "showTitle": false,
     "tableResultSettingsMap": {},
     "title": ""
    }
   },
   "source": [
    "---\n",
    "The image below is supplied as an example of how your dashboard's first page could appear once you've finished adding visualizations and customizing the colors and features of the dashboard. The lab activity continues below the image.\n",
    "\n",
    "![Description](./images/example-dashboard)"
   ]
  },
  {
   "cell_type": "markdown",
   "metadata": {
    "application/vnd.databricks.v1+cell": {
     "cellMetadata": {},
     "inputWidgets": {},
     "nuid": "dcd88ac1-70aa-4335-ac46-992ea7eabfb1",
     "showTitle": false,
     "tableResultSettingsMap": {},
     "title": ""
    }
   },
   "source": [
    "### F: Adding another page to the dashboard\n",
    "\n",
    "Sometimes it is helpful to let people browse the underlying data. Let's give that opportunity, but put it on a separate page, so as not to clutter up the main page. \n",
    "\n",
    "1. Return to the **Untitled page** tab if you navigated away.  \n",
    "\n",
    "1. Because we are now going to have two pages, let's rename the first one to something helpful. Click the kebab menu next to **Untitled page**, choose **Rename**, and specify a new name of **Visualizations**.\n",
    "\n",
    "1. Now click the `+` icon to the right of **Visualizations** to add a new page. Click the kebab menu next to the newly created **Untitled page**, choose **Rename**, and specify a new name of **Browse data**."
   ]
  },
  {
   "cell_type": "markdown",
   "metadata": {
    "application/vnd.databricks.v1+cell": {
     "cellMetadata": {},
     "inputWidgets": {},
     "nuid": "de384c13-52b9-49d9-83bc-0a7872494a68",
     "showTitle": false,
     "tableResultSettingsMap": {},
     "title": ""
    }
   },
   "source": [
    "---\n",
    "#### Adding a table widget to the dashboard's second page\n",
    "\n",
    "Now that we have a separate page, we can let people browse the underlying data if they wish without cluttering our handsome graphs.\n",
    "\n",
    "1. Return to the **Browse data** page tab if you navigated away.  \n",
    "\n",
    "1. If you are not already viewing the page called **Browse data** click on its tab at top left to toggle to it.\n",
    "\n",
    "1. Select **Add a visualization** from the menu at the bottom of the canvas and click on the canvas to add the visualization. \n",
    "\n",
    "1. In the **Configuration Panel** on the right, make the following selections for the settings: \n",
    "\n",
    "    - **Dataset**: **TotalElectricitySupplyDemand**\n",
    "    - **Visualization**: Table\n",
    "    - **Columns**: \n",
    "      - Click the box for **Show/hide all** to add all the fields to the table.\n",
    "\n",
    "1. Grab the right edge of the widget and expand it to the full width of the page.\n",
    "\n",
    "Notice that, just as with a spreadsheet, your users can sort all the data by clicking on the header. Clicking once selects ascending order and clicking again selects descending order.\n",
    "\n",
    "Does the date selection widget on the front page of the dashboard affect this table? What about the global filter for product?\n"
   ]
  },
  {
   "cell_type": "markdown",
   "metadata": {
    "application/vnd.databricks.v1+cell": {
     "cellMetadata": {},
     "inputWidgets": {},
     "nuid": "af3390af-6bac-4703-8e0a-fa03dd165290",
     "showTitle": false,
     "tableResultSettingsMap": {},
     "title": ""
    }
   },
   "source": [
    "### G: Securely share your dashboard\n",
    "\n",
    "When your dashboard is complete, to share it with others, you need to publish it. \n",
    "\n",
    "Published dashboards can be shared with other named users in your workspace. You can also share them with users registered at the account level: that is, users registered to your Databricks account who may not have been assigned any specific Databricks resources. Frequently leaders and line-of-business workers are in this category. This capability helps you deliver data insights to people who are not data professionals. \n",
    "\n",
    "When you publish a dashboard, the default setting is to **embed credentials**. Embedding credentials in your published dashboard allows dashboard viewers to **use your credentials to access the data and power the queries that support it**. If you choose not to embed credentials, dashboard viewers use their own credentials to access necessary data and compute power. If a viewer does not have access to the default SQL warehouse that powers the dashboard, or if they do not have access to the underlying data, _visualizations will not render._\n",
    "\n",
    "To publish your dashboard, complete the following steps:\n",
    "\n",
    "1. Click <b>Publish</b> in the upper-right corner of your dashboard. Read the setting and notes in the <b>Publish</b> dialog. </p>\n",
    "2. Click <b>Publish</b> in the lower-right corner of the dialog. The <b>Sharing</b> dialog should open afterward. If it does not open, you can select **Share** next to **Publish** at the top of the dashboard.\n",
    "    - You can use the text field to search for individual users, or share the dashboard with a preconfigured group, like <b>Admins</b> or <b>All workspace users</b>. From this window, you can grant leveled privileges like <b>Can Manage</b> or <b>Can Edit</b>. See <a href=\"https://docs.databricks.com/en/security/auth-authz/access-control/index.html#lakeview\" target=\"_blank\">Dashboard ACLs</a> for details on permissions.\n",
    "    - The bottom of the <b>Sharing</b> dialog controls view access. Use this setting to easily share with all account users.\n",
    "3. <p style=\"color: #0873FF\"> Under <b>Sharing settings</b>, choose <b>Anyone in my account can view</b> from the drop-down. Then, close the <b>Sharing</b> dialog. </p>\n",
    "4. <p style=\"color: #0873FF\"> Use the drop-down near the top of the dashboard to switch between <b>Draft</b> and <b>Published</b> versions of your dashboard. </p>\n",
    "\n",
    "**📌 Note:** When you edit your draft dashboard, viewers of the published dashboards do not see your changes until you republish. The published dashboard includes visualizations that are built on queries that can be refreshed as new data arrives. When dashboards are refreshed, they updated with new data automatically; the dashboards do not need to be republished."
   ]
  },
  {
   "cell_type": "markdown",
   "metadata": {
    "application/vnd.databricks.v1+cell": {
     "cellMetadata": {},
     "inputWidgets": {},
     "nuid": "ad97d07a-f4c4-496e-9db1-36a53c6456c3",
     "showTitle": false,
     "tableResultSettingsMap": {},
     "title": ""
    }
   },
   "source": [
    "### H: Establish a refresh schedule\n",
    "\n",
    "A refresh schedule helps you optimize the performance of  dashboards built on datasets that grow and change. You can schedule a regular refresh of the data in your dashboard, thus ensuring that Databricks' cache of data is up-to-date. The refresh schedule dialogue is also where you can manage users' subscriptions to your dashboard. Subscribed users get an email at every refresh with a snapshot image of the first page of the dashboard, as well as a link back to the live dashboard in Databricks.\n",
    "\n",
    "1. Navigate to the published view of your dashboard if you are not already there. The **Draft**/**Published** pulldown at top should show a green circle.\n",
    "1. Click on the **Schedule** button at top right. If applicable, select **+ Schedule**.\n",
    "\n",
    "1. Use the user interface to establish a daily refresh schedule. Choose a time that is in a few minutes.\n",
    "1. Click to **Create** the schedule.\n",
    "1. Click the **Schedule (1)** button again and use the **Subscribe** button to subscribe to the refresh schedule.\n",
    "1. Using the kebab menu icon to the right of the **Subscribe** button, select **Edit**. From here you can switch the view to the **Subscribers** tab and view all users who've subscribed to that particular refresh schedule.\n",
    "1. Select **Cancel** to leave the **Edit schedule** dialogue.\n",
    "\n",
    "  In a production Databricks instance you would use this user interface to manage the subscribers to your dashboard. As a security measure, you cannot subscribe arbitrary email addresses to your dashboard. Only users with a Databricks account in this Databricks workspace can subscribe.\n",
    "\n",
    "  1. Click the **Schedule (1)** button again. Using the kebab menu icon to the right of the **Subscribe** button to **Delete** the schedule."
   ]
  },
  {
   "cell_type": "markdown",
   "metadata": {
    "application/vnd.databricks.v1+cell": {
     "cellMetadata": {},
     "inputWidgets": {},
     "nuid": "431fbcd6-bd7f-45c1-9108-19182f1d6c5a",
     "showTitle": false,
     "tableResultSettingsMap": {},
     "title": ""
    }
   },
   "source": [
    "---\n",
    "### Appendix: Sample SQL Query\n",
    "\n",
    "Here is a query you can use to define the dashboard's main **electricitySupplyDemand** dataset.\n",
    "\n",
    "```\n",
    "SELECT\n",
    "  d.*,\n",
    "  s.supply_MW,\n",
    "  s.fuel_type,\n",
    "  s.region,\n",
    "  t.temperature_C\n",
    "FROM dbacademy.YOURSCHEMA.aeso_january_2024_demand d\n",
    "LEFT JOIN dbacademy.YOURSCHEMA.aeso_january_2024_supply s\n",
    "  ON d.datetime_MST = s.datetime_MST\n",
    "LEFT JOIN dbacademy.YOURSCHEMA.calgary_january_2024_temperature t\n",
    "  ON d.datetime_MST = t.datetime_MST\n",
    "```\n",
    "\n",
    "**Data sources:**\n",
    "- Alberta Energy System Operator (AESO): https://developer-apim.aeso.ca/apis and https://aeso.app.box.com/s/qofgn9axnnw6uq3ip1goiq2ngb11txe5 --> we have used the `Actual Forecast Report - v1` API and CSV data for electricity supply and demand. \n",
    "- Environment Canada Weather Data: https://climate.weather.gc.ca/historical_data/search_historic_data_e.html --> we have used `CALGARY INT'L A` for weather data\n",
    "\n"
   ]
  },
  {
   "cell_type": "markdown",
   "metadata": {
    "application/vnd.databricks.v1+cell": {
     "cellMetadata": {},
     "inputWidgets": {},
     "nuid": "58f908bf-a818-4f46-9d43-e07cda1c4940",
     "showTitle": false,
     "tableResultSettingsMap": {},
     "title": ""
    }
   },
   "source": [
    "---\n",
    "### Challenge activity: Opportunities page\n",
    "\n",
    "If you have time, enhance your dashboard by adding a third page and trying to build other helpful visualizations. Maybe try the Advanced Line (forecast) visual on supply or demand. How does it look?"
   ]
  },
  {
   "cell_type": "markdown",
   "metadata": {
    "application/vnd.databricks.v1+cell": {
     "cellMetadata": {},
     "inputWidgets": {},
     "nuid": "37125c84-6b29-45d7-a4eb-398f0373cc03",
     "showTitle": false,
     "tableResultSettingsMap": {},
     "title": ""
    }
   },
   "source": [
    "\n",
    "&copy; 2025 Databricks, Inc. All rights reserved. Apache, Apache Spark, Spark, the Spark Logo, Apache Iceberg, Iceberg, and the Apache Iceberg logo are trademarks of the <a href=\"https://www.apache.org/\" target=\"blank\">Apache Software Foundation</a>.<br/>\n",
    "<br/><a href=\"https://databricks.com/privacy-policy\" target=\"blank\">Privacy Policy</a> | \n",
    "<a href=\"https://databricks.com/terms-of-use\" target=\"blank\">Terms of Use</a> | \n",
    "<a href=\"https://help.databricks.com/\" target=\"blank\">Support</a>"
   ]
  }
 ],
 "metadata": {
  "application/vnd.databricks.v1+notebook": {
   "computePreferences": null,
   "dashboards": [],
   "environmentMetadata": null,
   "inputWidgetPreferences": null,
   "language": "sql",
   "notebookMetadata": {
    "pythonIndentUnit": 4
   },
   "notebookName": "1.10 - Alberta Energy Grid Lab - Dashboard and Visualization Activity",
   "widgets": {}
  },
  "language_info": {
   "name": "sql"
  }
 },
 "nbformat": 4,
 "nbformat_minor": 0
}
